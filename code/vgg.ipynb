{
 "cells": [
  {
   "cell_type": "markdown",
   "id": "df0543af",
   "metadata": {},
   "source": [
    "### VGG"
   ]
  },
  {
   "cell_type": "code",
   "execution_count": 1,
   "id": "3515ee0b",
   "metadata": {},
   "outputs": [
    {
     "name": "stdout",
     "output_type": "stream",
     "text": [
      "PyTorch version:[2.0.1].\n"
     ]
    }
   ],
   "source": [
    "import numpy as np\n",
    "import matplotlib.pyplot as plt\n",
    "import torch as th\n",
    "import torch.nn as nn\n",
    "from dataset import mnist\n",
    "from util import (\n",
    "    get_torch_size_string,\n",
    "    print_model_parameters,\n",
    "    print_model_layers,\n",
    "    model_train,\n",
    "    model_eval,\n",
    "    model_test\n",
    ")\n",
    "np.set_printoptions(precision=3)\n",
    "th.set_printoptions(precision=3)\n",
    "%matplotlib inline\n",
    "%config InlineBackend.figure_format='retina'\n",
    "print (\"PyTorch version:[%s].\"%(th.__version__))"
   ]
  },
  {
   "cell_type": "markdown",
   "id": "6bbf3d91",
   "metadata": {},
   "source": [
    "### Hyperparameters"
   ]
  },
  {
   "cell_type": "code",
   "execution_count": 2,
   "id": "47e71fd3",
   "metadata": {},
   "outputs": [
    {
     "name": "stdout",
     "output_type": "stream",
     "text": [
      "Ready.\n"
     ]
    }
   ],
   "source": [
    "device = 'cpu' # cpu / mps\n",
    "print (\"Ready.\")"
   ]
  },
  {
   "cell_type": "markdown",
   "id": "3f29d91f",
   "metadata": {},
   "source": [
    "### VGG Blocks"
   ]
  },
  {
   "cell_type": "code",
   "execution_count": 3,
   "id": "4c1a814c",
   "metadata": {},
   "outputs": [
    {
     "name": "stdout",
     "output_type": "stream",
     "text": [
      "Ready.\n"
     ]
    }
   ],
   "source": [
    "def vgg_block(num_convs,out_channels):\n",
    "    layer_list = []\n",
    "    for _ in range(num_convs):\n",
    "        layer_list.append(\n",
    "            nn.LazyConv2d(\n",
    "                out_channels = out_channels,\n",
    "                kernel_size  = 3,\n",
    "                padding      = 1\n",
    "            )\n",
    "        )\n",
    "        layer_list.append(\n",
    "            nn.ReLU()\n",
    "        )\n",
    "    layer_list.append(nn.MaxPool2d(kernel_size=2,stride=2))\n",
    "    return nn.Sequential(*layer_list)\n",
    "print (\"Ready.\")"
   ]
  },
  {
   "cell_type": "markdown",
   "id": "52b10a71",
   "metadata": {},
   "source": [
    "### VGG Nets"
   ]
  },
  {
   "cell_type": "code",
   "execution_count": 4,
   "id": "457995c3",
   "metadata": {},
   "outputs": [
    {
     "name": "stdout",
     "output_type": "stream",
     "text": [
      "Ready.\n"
     ]
    }
   ],
   "source": [
    "class VGG_Class(nn.Module):\n",
    "    def __init__(\n",
    "        self,\n",
    "        arch        = ((1,64), (1,128), (2,256), (2,512), (2,512)),\n",
    "        num_classes = 1000\n",
    "    ):\n",
    "        super(VGG_Class,self).__init__()\n",
    "        vgg_block_list = []\n",
    "        for (num_convs,out_channels) in arch:\n",
    "            vgg_block_list.append(vgg_block(num_convs,out_channels))\n",
    "        self.net = nn.Sequential(\n",
    "            *vgg_block_list,\n",
    "            nn.Flatten(),\n",
    "            nn.LazyLinear(4096),\n",
    "            nn.ReLU(),\n",
    "            nn.Dropout(0.5),\n",
    "            nn.LazyLinear(4096),\n",
    "            nn.ReLU(),nn.Dropout(0.5),\n",
    "            nn.LazyLinear(num_classes)\n",
    "        )\n",
    "        self.layer_names = []\n",
    "        for l_idx,layer in enumerate(self.net):\n",
    "            layer_name = \"%s_%02d\"%(type(layer).__name__.lower(),l_idx)\n",
    "            self.layer_names.append(layer_name)\n",
    "        \n",
    "    def forward(self,x):\n",
    "        \"\"\"\n",
    "            Forward propagate\n",
    "        \"\"\"\n",
    "        intermediate_output_list = []\n",
    "        for layer in self.net:\n",
    "            x = layer(x)\n",
    "            intermediate_output_list.append(x)\n",
    "        final_output = x\n",
    "        return final_output,intermediate_output_list\n",
    "    \n",
    "print (\"Ready.\")        "
   ]
  },
  {
   "cell_type": "code",
   "execution_count": 5,
   "id": "83e831f4",
   "metadata": {},
   "outputs": [
    {
     "name": "stdout",
     "output_type": "stream",
     "text": [
      "Ready.\n"
     ]
    },
    {
     "name": "stderr",
     "output_type": "stream",
     "text": [
      "/Users/sj/anaconda3/envs/mujoco/lib/python3.9/site-packages/torch/nn/modules/lazy.py:180: UserWarning: Lazy modules are a new feature under heavy development so changes to the API or functionality can happen at any moment.\n",
      "  warnings.warn('Lazy modules are a new feature under heavy development '\n"
     ]
    }
   ],
   "source": [
    "vgg = VGG_Class(\n",
    "    arch        = ((2,64),(2,128),(2,256),(2,512),(2,512)),\n",
    "    num_classes = 1000\n",
    ")\n",
    "print (\"Ready.\")"
   ]
  },
  {
   "cell_type": "markdown",
   "id": "f0413b79",
   "metadata": {},
   "source": [
    "### Print model layers"
   ]
  },
  {
   "cell_type": "code",
   "execution_count": 6,
   "id": "6b9a113e",
   "metadata": {},
   "outputs": [
    {
     "name": "stdout",
     "output_type": "stream",
     "text": [
      "batch_size:[16]\n",
      "[  ] layer:[          input] size:[  16x3x224x224]\n",
      "[ 0] layer:[  sequential_00] size:[ 16x64x112x112] numel:[  12845056]\n",
      "[ 1] layer:[  sequential_01] size:[  16x128x56x56] numel:[   6422528]\n",
      "[ 2] layer:[  sequential_02] size:[  16x256x28x28] numel:[   3211264]\n",
      "[ 3] layer:[  sequential_03] size:[  16x512x14x14] numel:[   1605632]\n",
      "[ 4] layer:[  sequential_04] size:[    16x512x7x7] numel:[    401408]\n",
      "[ 5] layer:[     flatten_05] size:[      16x25088] numel:[    401408]\n",
      "[ 6] layer:[  lazylinear_06] size:[       16x4096] numel:[     65536]\n",
      "[ 7] layer:[        relu_07] size:[       16x4096] numel:[     65536]\n",
      "[ 8] layer:[     dropout_08] size:[       16x4096] numel:[     65536]\n",
      "[ 9] layer:[  lazylinear_09] size:[       16x4096] numel:[     65536]\n",
      "[10] layer:[        relu_10] size:[       16x4096] numel:[     65536]\n",
      "[11] layer:[     dropout_11] size:[       16x4096] numel:[     65536]\n",
      "[12] layer:[  lazylinear_12] size:[       16x1000] numel:[     16000]\n"
     ]
    }
   ],
   "source": [
    "x_torch = th.randn((16,3,224,224)).to(device)\n",
    "print_model_layers(vgg,x_torch)"
   ]
  },
  {
   "cell_type": "markdown",
   "id": "8fee9fd7",
   "metadata": {},
   "source": [
    "### Prinit model parameters"
   ]
  },
  {
   "cell_type": "code",
   "execution_count": 7,
   "id": "11c57a04",
   "metadata": {},
   "outputs": [
    {
     "name": "stdout",
     "output_type": "stream",
     "text": [
      "[ 0] parameter:[             net.0.0.weight] shape:[    64x3x3x3] numel:[      1728]\n",
      "[ 1] parameter:[               net.0.0.bias] shape:[          64] numel:[        64]\n",
      "[ 2] parameter:[             net.0.2.weight] shape:[   64x64x3x3] numel:[     36864]\n",
      "[ 3] parameter:[               net.0.2.bias] shape:[          64] numel:[        64]\n",
      "[ 4] parameter:[             net.1.0.weight] shape:[  128x64x3x3] numel:[     73728]\n",
      "[ 5] parameter:[               net.1.0.bias] shape:[         128] numel:[       128]\n",
      "[ 6] parameter:[             net.1.2.weight] shape:[ 128x128x3x3] numel:[    147456]\n",
      "[ 7] parameter:[               net.1.2.bias] shape:[         128] numel:[       128]\n",
      "[ 8] parameter:[             net.2.0.weight] shape:[ 256x128x3x3] numel:[    294912]\n",
      "[ 9] parameter:[               net.2.0.bias] shape:[         256] numel:[       256]\n",
      "[10] parameter:[             net.2.2.weight] shape:[ 256x256x3x3] numel:[    589824]\n",
      "[11] parameter:[               net.2.2.bias] shape:[         256] numel:[       256]\n",
      "[12] parameter:[             net.3.0.weight] shape:[ 512x256x3x3] numel:[   1179648]\n",
      "[13] parameter:[               net.3.0.bias] shape:[         512] numel:[       512]\n",
      "[14] parameter:[             net.3.2.weight] shape:[ 512x512x3x3] numel:[   2359296]\n",
      "[15] parameter:[               net.3.2.bias] shape:[         512] numel:[       512]\n",
      "[16] parameter:[             net.4.0.weight] shape:[ 512x512x3x3] numel:[   2359296]\n",
      "[17] parameter:[               net.4.0.bias] shape:[         512] numel:[       512]\n",
      "[18] parameter:[             net.4.2.weight] shape:[ 512x512x3x3] numel:[   2359296]\n",
      "[19] parameter:[               net.4.2.bias] shape:[         512] numel:[       512]\n",
      "[20] parameter:[               net.6.weight] shape:[  4096x25088] numel:[ 102760448]\n",
      "[21] parameter:[                 net.6.bias] shape:[        4096] numel:[      4096]\n",
      "[22] parameter:[               net.9.weight] shape:[   4096x4096] numel:[  16777216]\n",
      "[23] parameter:[                 net.9.bias] shape:[        4096] numel:[      4096]\n",
      "[24] parameter:[              net.12.weight] shape:[   1000x4096] numel:[   4096000]\n",
      "[25] parameter:[                net.12.bias] shape:[        1000] numel:[      1000]\n"
     ]
    }
   ],
   "source": [
    "print_model_parameters(vgg)"
   ]
  },
  {
   "cell_type": "code",
   "execution_count": null,
   "id": "0fce4c50",
   "metadata": {},
   "outputs": [],
   "source": []
  }
 ],
 "metadata": {
  "kernelspec": {
   "display_name": "Python 3 (ipykernel)",
   "language": "python",
   "name": "python3"
  },
  "language_info": {
   "codemirror_mode": {
    "name": "ipython",
    "version": 3
   },
   "file_extension": ".py",
   "mimetype": "text/x-python",
   "name": "python",
   "nbconvert_exporter": "python",
   "pygments_lexer": "ipython3",
   "version": "3.9.16"
  }
 },
 "nbformat": 4,
 "nbformat_minor": 5
}
