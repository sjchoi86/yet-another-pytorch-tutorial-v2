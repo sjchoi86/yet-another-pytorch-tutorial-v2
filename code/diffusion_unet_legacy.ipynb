{
 "cells": [
  {
   "cell_type": "markdown",
   "id": "e331df79-2400-4f60-aca2-15debac3e5de",
   "metadata": {},
   "source": [
    "### U-net Lagacy"
   ]
  },
  {
   "cell_type": "code",
   "execution_count": 1,
   "id": "a1021c53-7ada-41a7-86fc-ce2ec7faada5",
   "metadata": {},
   "outputs": [
    {
     "name": "stdout",
     "output_type": "stream",
     "text": [
      "PyTorch version:[2.0.1].\n"
     ]
    }
   ],
   "source": [
    "import numpy as np\n",
    "import matplotlib.pyplot as plt\n",
    "import torch as th\n",
    "import torch.nn as nn\n",
    "from util import (\n",
    "    get_torch_size_string\n",
    ")\n",
    "from diffusion import (\n",
    "    get_ddpm_constants,\n",
    "    plot_ddpm_constants,\n",
    "    DiffusionUNet,\n",
    "    DiffusionUNetLegacy\n",
    ")\n",
    "from dataset import mnist\n",
    "np.set_printoptions(precision=3)\n",
    "th.set_printoptions(precision=3)\n",
    "%matplotlib inline\n",
    "%config InlineBackend.figure_format='retina'\n",
    "print (\"PyTorch version:[%s].\"%(th.__version__))"
   ]
  },
  {
   "cell_type": "code",
   "execution_count": 2,
   "id": "bc376285-0fa0-4a0b-aacb-f5b49b0e2f5e",
   "metadata": {},
   "outputs": [
    {
     "name": "stdout",
     "output_type": "stream",
     "text": [
      "device:[mps]\n"
     ]
    }
   ],
   "source": [
    "device = 'mps'\n",
    "print (\"device:[%s]\"%(device))"
   ]
  },
  {
   "cell_type": "code",
   "execution_count": 3,
   "id": "7c84b758-2535-439c-936b-1a20397d7598",
   "metadata": {},
   "outputs": [
    {
     "name": "stdout",
     "output_type": "stream",
     "text": [
      "Ready.\n"
     ]
    }
   ],
   "source": [
    "dc = get_ddpm_constants(\n",
    "    schedule_name = 'cosine', # 'linear', 'cosine'\n",
    "    T             = 1000,\n",
    "    np_type       = np.float32)\n",
    "print(\"Ready.\") "
   ]
  },
  {
   "cell_type": "markdown",
   "id": "d8641679-0ee9-4f4b-9248-23e0c2e0de47",
   "metadata": {},
   "source": [
    "### Guided U-net\n",
    "<img src=\"../img/unet.jpg\" width=\"500\" />"
   ]
  },
  {
   "cell_type": "markdown",
   "id": "08f6f417-81a6-49fe-817c-663acd47414a",
   "metadata": {},
   "source": [
    "### 1-D case: `[B x C x L]` with attention"
   ]
  },
  {
   "cell_type": "code",
   "execution_count": 4,
   "id": "57655fad-1bcb-4a5c-9626-ded7373e2b9e",
   "metadata": {},
   "outputs": [
    {
     "name": "stdout",
     "output_type": "stream",
     "text": [
      "Input: x:[2x3x256] timesteps:[2]\n",
      "Output: out:[2x3x256]\n",
      "[ 0] key:[           x] shape:[     2x3x256]\n",
      "[ 1] key:[    x_lifted] shape:[    2x32x256]\n",
      "[ 2] key:[h_enc_res_00] shape:[    2x32x128]\n",
      "[ 3] key:[h_enc_att_01] shape:[    2x32x128]\n",
      "[ 4] key:[h_enc_res_02] shape:[     2x64x64]\n",
      "[ 5] key:[h_enc_att_03] shape:[     2x64x64]\n",
      "[ 6] key:[h_enc_res_04] shape:[    2x128x32]\n",
      "[ 7] key:[h_enc_att_05] shape:[    2x128x32]\n",
      "[ 8] key:[h_enc_res_06] shape:[    2x256x16]\n",
      "[ 9] key:[h_enc_att_07] shape:[    2x256x16]\n",
      "[10] key:[h_dec_res_00] shape:[    2x256x32]\n",
      "[11] key:[h_dec_att_01] shape:[    2x256x32]\n",
      "[12] key:[h_dec_res_02] shape:[    2x128x64]\n",
      "[13] key:[h_dec_att_03] shape:[    2x128x64]\n",
      "[14] key:[h_dec_res_04] shape:[    2x64x128]\n",
      "[15] key:[h_dec_att_05] shape:[    2x64x128]\n",
      "[16] key:[h_dec_res_06] shape:[    2x32x256]\n",
      "[17] key:[h_dec_att_07] shape:[    2x32x256]\n",
      "[18] key:[         out] shape:[     2x3x256]\n"
     ]
    }
   ],
   "source": [
    "unet = DiffusionUNetLegacy(\n",
    "    name             = 'unet',\n",
    "    dims             = 1,\n",
    "    n_in_channels    = 3,\n",
    "    n_base_channels  = 32,\n",
    "    n_emb_dim        = 128,\n",
    "    n_enc_blocks     = 4, # number of encoder blocks\n",
    "    n_dec_blocks     = 4, # number of decoder blocks\n",
    "    n_groups         = 16, # group norm paramter\n",
    "    use_attention    = True,\n",
    "    skip_connection  = True, # additional skip connection\n",
    "    chnnel_multiples = (1,2,4,8),\n",
    "    updown_rates     = (2,2,2,2),\n",
    "    device           = device,\n",
    ")\n",
    "# Inputs, timesteps:[B] and x:[B x C x L]\n",
    "batch_size = 2\n",
    "x = th.randn(batch_size,3,256).to(device) # [B x C x L]\n",
    "timesteps = th.linspace(1,dc['T'],batch_size).to(th.int64).to(device) # [B]\n",
    "out,intermediate_output_dict = unet(x,timesteps)\n",
    "print (\"Input: x:[%s] timesteps:[%s]\"%(\n",
    "    get_torch_size_string(x),get_torch_size_string(timesteps)\n",
    "))\n",
    "print (\"Output: out:[%s]\"%(get_torch_size_string(out)))\n",
    "# Print intermediate layers\n",
    "for k_idx,key in enumerate(intermediate_output_dict.keys()):\n",
    "    z = intermediate_output_dict[key]\n",
    "    print (\"[%2d] key:[%12s] shape:[%12s]\"%(k_idx,key,get_torch_size_string(z)))"
   ]
  },
  {
   "cell_type": "markdown",
   "id": "05572674-6d35-46a6-a880-d41e4b4e5111",
   "metadata": {},
   "source": [
    "### 1-D case: `[B x C x L]` without attention"
   ]
  },
  {
   "cell_type": "code",
   "execution_count": 5,
   "id": "6962a40a-0c14-4c4a-a024-06b64b076df5",
   "metadata": {},
   "outputs": [
    {
     "name": "stdout",
     "output_type": "stream",
     "text": [
      "Input: x:[2x3x256] timesteps:[2]\n",
      "Output: out:[2x3x256]\n",
      "[ 0] key:[           x] shape:[     2x3x256]\n",
      "[ 1] key:[    x_lifted] shape:[    2x32x256]\n",
      "[ 2] key:[h_enc_res_00] shape:[    2x32x128]\n",
      "[ 3] key:[h_enc_res_01] shape:[     2x64x64]\n",
      "[ 4] key:[h_enc_res_02] shape:[    2x128x32]\n",
      "[ 5] key:[h_enc_res_03] shape:[    2x256x16]\n",
      "[ 6] key:[h_dec_res_00] shape:[    2x256x32]\n",
      "[ 7] key:[h_dec_res_01] shape:[    2x128x64]\n",
      "[ 8] key:[h_dec_res_02] shape:[    2x64x128]\n",
      "[ 9] key:[h_dec_res_03] shape:[    2x32x256]\n",
      "[10] key:[         out] shape:[     2x3x256]\n"
     ]
    }
   ],
   "source": [
    "unet = DiffusionUNetLegacy(\n",
    "    name             = 'unet',\n",
    "    dims             = 1,\n",
    "    n_in_channels    = 3,\n",
    "    n_base_channels  = 32,\n",
    "    n_emb_dim        = 128,\n",
    "    n_enc_blocks     = 4, # number of encoder blocks\n",
    "    n_dec_blocks     = 4, # number of decoder blocks\n",
    "    n_groups         = 16, # group norm paramter\n",
    "    use_attention    = False,\n",
    "    skip_connection  = True, # additional skip connection\n",
    "    chnnel_multiples = (1,2,4,8),\n",
    "    updown_rates     = (2,2,2,2),\n",
    "    device           = device,\n",
    ")\n",
    "# Inputs, timesteps:[B] and x:[B x C x L]\n",
    "batch_size = 2\n",
    "x = th.randn(batch_size,3,256).to(device) # [B x C x L]\n",
    "timesteps = th.linspace(1,dc['T'],batch_size).to(th.int64).to(device) # [B]\n",
    "out,intermediate_output_dict = unet(x,timesteps)\n",
    "print (\"Input: x:[%s] timesteps:[%s]\"%(\n",
    "    get_torch_size_string(x),get_torch_size_string(timesteps)\n",
    "))\n",
    "print (\"Output: out:[%s]\"%(get_torch_size_string(out)))\n",
    "# Print intermediate layers\n",
    "for k_idx,key in enumerate(intermediate_output_dict.keys()):\n",
    "    z = intermediate_output_dict[key]\n",
    "    print (\"[%2d] key:[%12s] shape:[%12s]\"%(k_idx,key,get_torch_size_string(z)))"
   ]
  },
  {
   "cell_type": "code",
   "execution_count": null,
   "id": "1881fc4e-d713-4c24-955c-85e3c0ece8ff",
   "metadata": {},
   "outputs": [],
   "source": []
  },
  {
   "cell_type": "markdown",
   "id": "c7143a40-7d2f-46e6-a6b6-a089a1227bd7",
   "metadata": {},
   "source": [
    "### 2-D case: `[B x C x W x H]` without attention"
   ]
  },
  {
   "cell_type": "code",
   "execution_count": 6,
   "id": "0c3da514-b189-4c01-ba6f-1f2e8daa24b0",
   "metadata": {},
   "outputs": [
    {
     "name": "stdout",
     "output_type": "stream",
     "text": [
      "Input: x:[2x3x256x256] timesteps:[2]\n",
      "Output: out:[2x3x256x256]\n",
      "[ 0] key:[           x] shape:[ 2x3x256x256]\n",
      "[ 1] key:[    x_lifted] shape:[2x32x256x256]\n",
      "[ 2] key:[h_enc_res_00] shape:[2x32x256x256]\n",
      "[ 3] key:[h_enc_res_01] shape:[2x64x256x256]\n",
      "[ 4] key:[h_enc_res_02] shape:[2x128x256x256]\n",
      "[ 5] key:[h_dec_res_00] shape:[2x128x256x256]\n",
      "[ 6] key:[h_dec_res_01] shape:[2x64x256x256]\n",
      "[ 7] key:[h_dec_res_02] shape:[2x32x256x256]\n",
      "[ 8] key:[         out] shape:[ 2x3x256x256]\n"
     ]
    }
   ],
   "source": [
    "unet = DiffusionUNetLegacy(\n",
    "    name             = 'unet',\n",
    "    dims             = 2,\n",
    "    n_in_channels    = 3,\n",
    "    n_base_channels  = 32,\n",
    "    n_emb_dim        = 128,\n",
    "    n_enc_blocks     = 3, # number of encoder blocks\n",
    "    n_dec_blocks     = 3, # number of decoder blocks\n",
    "    n_groups         = 16, # group norm paramter\n",
    "    use_attention    = False,\n",
    "    skip_connection  = True, # additional skip connection\n",
    "    chnnel_multiples = (1,2,4),\n",
    "    updown_rates     = (1,1,1),\n",
    "    device           = device,\n",
    ")\n",
    "# Inputs, timesteps:[B] and x:[B x C x W x H]\n",
    "batch_size = 2\n",
    "x = th.randn(batch_size,3,256,256).to(device) # [B x C x W x H]\n",
    "timesteps = th.linspace(1,dc['T'],batch_size).to(th.int64).to(device) # [B]\n",
    "out,intermediate_output_dict = unet(x,timesteps)\n",
    "print (\"Input: x:[%s] timesteps:[%s]\"%(\n",
    "    get_torch_size_string(x),get_torch_size_string(timesteps)\n",
    "))\n",
    "print (\"Output: out:[%s]\"%(get_torch_size_string(out)))\n",
    "# Print intermediate layers\n",
    "for k_idx,key in enumerate(intermediate_output_dict.keys()):\n",
    "    z = intermediate_output_dict[key]\n",
    "    print (\"[%2d] key:[%12s] shape:[%12s]\"%(k_idx,key,get_torch_size_string(z)))"
   ]
  },
  {
   "cell_type": "markdown",
   "id": "66e7d820-fc72-41c3-88da-09e70147c3e0",
   "metadata": {},
   "source": [
    "### 2-D case: `[B x C x W x H]` without attention + updown pooling"
   ]
  },
  {
   "cell_type": "code",
   "execution_count": 7,
   "id": "12680faa-9bf0-4ef9-b65f-08952641dfa3",
   "metadata": {},
   "outputs": [
    {
     "name": "stdout",
     "output_type": "stream",
     "text": [
      "Input: x:[2x3x256x256] timesteps:[2]\n",
      "Output: out:[2x3x256x256]\n",
      "[ 0] key:[           x] shape:[ 2x3x256x256]\n",
      "[ 1] key:[    x_lifted] shape:[2x32x256x256]\n",
      "[ 2] key:[h_enc_res_00] shape:[2x32x256x256]\n",
      "[ 3] key:[h_enc_res_01] shape:[2x64x128x128]\n",
      "[ 4] key:[h_enc_res_02] shape:[ 2x128x64x64]\n",
      "[ 5] key:[h_dec_res_00] shape:[2x128x128x128]\n",
      "[ 6] key:[h_dec_res_01] shape:[2x64x256x256]\n",
      "[ 7] key:[h_dec_res_02] shape:[2x32x256x256]\n",
      "[ 8] key:[         out] shape:[ 2x3x256x256]\n"
     ]
    }
   ],
   "source": [
    "unet = DiffusionUNetLegacy(\n",
    "    name             = 'unet',\n",
    "    dims             = 2,\n",
    "    n_in_channels    = 3,\n",
    "    n_base_channels  = 32,\n",
    "    n_emb_dim        = 128,\n",
    "    n_enc_blocks     = 3, # number of encoder blocks\n",
    "    n_dec_blocks     = 3, # number of decoder blocks\n",
    "    n_groups         = 16, # group norm paramter\n",
    "    use_attention    = False,\n",
    "    skip_connection  = True, # additional skip connection\n",
    "    chnnel_multiples = (1,2,4),\n",
    "    updown_rates     = (1,2,2),\n",
    "    device           = device,\n",
    ")\n",
    "# Inputs, timesteps:[B] and x:[B x C x W x H]\n",
    "batch_size = 2\n",
    "x = th.randn(batch_size,3,256,256).to(device) # [B x C x W x H]\n",
    "timesteps = th.linspace(1,dc['T'],batch_size).to(th.int64).to(device) # [B]\n",
    "out,intermediate_output_dict = unet(x,timesteps)\n",
    "print (\"Input: x:[%s] timesteps:[%s]\"%(\n",
    "    get_torch_size_string(x),get_torch_size_string(timesteps)\n",
    "))\n",
    "print (\"Output: out:[%s]\"%(get_torch_size_string(out)))\n",
    "# Print intermediate layers\n",
    "for k_idx,key in enumerate(intermediate_output_dict.keys()):\n",
    "    z = intermediate_output_dict[key]\n",
    "    print (\"[%2d] key:[%12s] shape:[%12s]\"%(k_idx,key,get_torch_size_string(z)))"
   ]
  },
  {
   "cell_type": "code",
   "execution_count": null,
   "id": "b9bf9fc1-90f1-4700-a4b1-360f730d0e51",
   "metadata": {},
   "outputs": [],
   "source": []
  }
 ],
 "metadata": {
  "kernelspec": {
   "display_name": "Python 3 (ipykernel)",
   "language": "python",
   "name": "python3"
  },
  "language_info": {
   "codemirror_mode": {
    "name": "ipython",
    "version": 3
   },
   "file_extension": ".py",
   "mimetype": "text/x-python",
   "name": "python",
   "nbconvert_exporter": "python",
   "pygments_lexer": "ipython3",
   "version": "3.9.16"
  }
 },
 "nbformat": 4,
 "nbformat_minor": 5
}
