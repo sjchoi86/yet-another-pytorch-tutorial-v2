{
 "cells": [
  {
   "cell_type": "markdown",
   "id": "33b4ff1b",
   "metadata": {},
   "source": [
    "### Convolutional neuural network"
   ]
  },
  {
   "cell_type": "code",
   "execution_count": 1,
   "id": "db536718",
   "metadata": {},
   "outputs": [
    {
     "name": "stdout",
     "output_type": "stream",
     "text": [
      "PyTorch version:[2.0.1].\n"
     ]
    }
   ],
   "source": [
    "import numpy as np\n",
    "import matplotlib.pyplot as plt\n",
    "import torch as th\n",
    "import torch.nn as nn\n",
    "from dataset import mnist\n",
    "from util import (\n",
    "    get_torch_size_string,\n",
    "    print_model_parameters,\n",
    "    print_model_layers,\n",
    "    model_train,\n",
    "    model_eval,\n",
    "    model_test\n",
    ")\n",
    "np.set_printoptions(precision=3)\n",
    "th.set_printoptions(precision=3)\n",
    "%matplotlib inline\n",
    "%config InlineBackend.figure_format='retina'\n",
    "print (\"PyTorch version:[%s].\"%(th.__version__))"
   ]
  },
  {
   "cell_type": "markdown",
   "id": "09d0df72",
   "metadata": {},
   "source": [
    "### Hyperparameters"
   ]
  },
  {
   "cell_type": "code",
   "execution_count": 2,
   "id": "ef8b2540",
   "metadata": {},
   "outputs": [
    {
     "name": "stdout",
     "output_type": "stream",
     "text": [
      "Ready.\n"
     ]
    }
   ],
   "source": [
    "device      = 'cpu' # cpu / mps\n",
    "n_epoch     = 20\n",
    "batch_size  = 128\n",
    "print_every = 1\n",
    "print (\"Ready.\")"
   ]
  },
  {
   "cell_type": "markdown",
   "id": "02c96695",
   "metadata": {},
   "source": [
    "### Dataset"
   ]
  },
  {
   "cell_type": "code",
   "execution_count": 3,
   "id": "78e5bd29",
   "metadata": {},
   "outputs": [
    {
     "name": "stdout",
     "output_type": "stream",
     "text": [
      "MNIST ready.\n"
     ]
    }
   ],
   "source": [
    "train_iter,test_iter,train_data,train_label,test_data,test_label = \\\n",
    "    mnist(root_path='../data',batch_size=128)\n",
    "print (\"MNIST ready.\")"
   ]
  },
  {
   "cell_type": "markdown",
   "id": "9b3d8386",
   "metadata": {},
   "source": [
    "### Model"
   ]
  },
  {
   "cell_type": "code",
   "execution_count": 4,
   "id": "f40c45c9",
   "metadata": {},
   "outputs": [
    {
     "name": "stdout",
     "output_type": "stream",
     "text": [
      "Ready.\n"
     ]
    }
   ],
   "source": [
    "class ConvNetClass(nn.Module):\n",
    "    def __init__(\n",
    "        self,\n",
    "        name        = 'cnn',\n",
    "        x_dim       = (1,28,28),\n",
    "        k_size      = (3,3),\n",
    "        stride      = (1,1),\n",
    "        padding     = (1,1),\n",
    "        max_pooling = (2,2),\n",
    "        c_dim_list  = (32,64), # conv channel\n",
    "        h_dim_list  = (32,16), # dense hidden\n",
    "        y_dim       = 10,\n",
    "        actv        = nn.ReLU(),\n",
    "        p_drop      = 0.2\n",
    "    ):\n",
    "        \"\"\"\n",
    "            Initialize CNN\n",
    "        \"\"\"\n",
    "        super(ConvNetClass,self).__init__()\n",
    "        self.name        = name\n",
    "        self.x_dim       = x_dim\n",
    "        self.k_size      = k_size\n",
    "        self.stride      = stride\n",
    "        self.padding     = padding\n",
    "        self.max_pooling = max_pooling\n",
    "        self.c_dim_list  = c_dim_list\n",
    "        self.h_dim_list  = h_dim_list\n",
    "        self.y_dim       = y_dim\n",
    "        self.actv        = actv\n",
    "        self.p_drop      = p_drop\n",
    "        \n",
    "        # Declare layers\n",
    "        \n",
    "        # Conv part\n",
    "        self.layer_list = []\n",
    "        c_dim_prev = self.x_dim[0]\n",
    "        for c_dim in self.c_dim_list:\n",
    "            # conv -> batchnorm -> actv -> maxpool -> dropout\n",
    "            self.layer_list.append(\n",
    "                nn.Conv2d(\n",
    "                    in_channels  = c_dim_prev,\n",
    "                    out_channels = c_dim,\n",
    "                    kernel_size  = self.k_size,\n",
    "                    stride       = self.stride,\n",
    "                    padding      = self.padding\n",
    "                )\n",
    "            )\n",
    "            self.layer_list.append(nn.BatchNorm2d(num_features=c_dim))\n",
    "            self.layer_list.append(self.actv)\n",
    "            self.layer_list.append(\n",
    "                nn.MaxPool2d(\n",
    "                    kernel_size = self.max_pooling, \n",
    "                    stride      = self.max_pooling\n",
    "                )\n",
    "            )\n",
    "            self.layer_list.append(nn.Dropout2d(p=self.p_drop))\n",
    "            c_dim_prev = c_dim\n",
    "            \n",
    "        # Dense part\n",
    "        self.layer_list.append(nn.Flatten())\n",
    "        h_dim_prev = c_dim_prev*\\\n",
    "            (self.x_dim[1]//(2**len(self.c_dim_list)))*\\\n",
    "            (self.x_dim[2]//(2**len(self.c_dim_list)))\n",
    "        for h_dim in h_dim_list:\n",
    "            # dense -> batchnorm -> actv -> dropout\n",
    "            self.layer_list.append(nn.Linear(h_dim_prev,h_dim))\n",
    "            self.layer_list.append(nn.BatchNorm1d(num_features=h_dim))\n",
    "            self.layer_list.append(self.actv)\n",
    "            self.layer_list.append(nn.Dropout1d(p=self.p_drop))\n",
    "            h_dim_prev = h_dim\n",
    "        self.layer_list.append(nn.Linear(h_dim_prev,self.y_dim))\n",
    "        \n",
    "        # Define net\n",
    "        self.net = nn.Sequential()\n",
    "        self.layer_names = []\n",
    "        for l_idx,layer in enumerate(self.layer_list):\n",
    "            layer_name = \"%s_%02d\"%(type(layer).__name__.lower(),l_idx)\n",
    "            self.layer_names.append(layer_name)\n",
    "            self.net.add_module(layer_name,layer)\n",
    "        \n",
    "        # Initialize parameters\n",
    "        self.init_param(VERBOSE=False)\n",
    "        \n",
    "    def init_param(self,VERBOSE=False):\n",
    "        \"\"\"\n",
    "            Initialize parameters\n",
    "        \"\"\"\n",
    "        for m_idx,m in enumerate(self.modules()):\n",
    "            if VERBOSE:\n",
    "                print (\"[%02d]\"%(m_idx))\n",
    "            if isinstance(m,nn.Conv2d): # init conv\n",
    "                nn.init.kaiming_normal_(m.weight)\n",
    "                nn.init.zeros_(m.bias)\n",
    "            elif isinstance(m,nn.BatchNorm1d) or isinstance(m,nn.BatchNorm2d): \n",
    "                # init BN\n",
    "                nn.init.constant_(m.weight,1.0)\n",
    "                nn.init.constant_(m.bias,0.0)\n",
    "            elif isinstance(m,nn.Linear): # lnit dense\n",
    "                nn.init.kaiming_normal_(m.weight,nonlinearity='relu')\n",
    "                nn.init.zeros_(m.bias)\n",
    "                \n",
    "    def forward(self,x):\n",
    "        \"\"\"\n",
    "            Forward propagate\n",
    "        \"\"\"\n",
    "        intermediate_output_list = []\n",
    "        for idx,layer in enumerate(self.net):\n",
    "            x = layer(x)\n",
    "            intermediate_output_list.append(x)\n",
    "        # Final output\n",
    "        final_output = x\n",
    "        return final_output,intermediate_output_list\n",
    "    \n",
    "print (\"Ready.\")        "
   ]
  },
  {
   "cell_type": "code",
   "execution_count": 5,
   "id": "87707591",
   "metadata": {},
   "outputs": [
    {
     "name": "stdout",
     "output_type": "stream",
     "text": [
      "Ready.\n"
     ]
    }
   ],
   "source": [
    "cnn = ConvNetClass(\n",
    "    name        = 'cnn',\n",
    "    x_dim       = (1,28,28),\n",
    "    k_size      = (3,3),\n",
    "    stride      = (1,1),\n",
    "    padding     = (1,1),\n",
    "    max_pooling = (2,2),\n",
    "    c_dim_list  = (32,64), # conv channel\n",
    "    h_dim_list  = (32,16), # dense hidden\n",
    "    y_dim       = 10,\n",
    "    actv        = nn.Mish(),\n",
    "    p_drop      = 0.35\n",
    ").to(device)\n",
    "loss = nn.CrossEntropyLoss()\n",
    "optm = th.optim.Adam(cnn.parameters(),lr=1e-3)\n",
    "print (\"Ready.\")"
   ]
  },
  {
   "cell_type": "markdown",
   "id": "5d8a2968",
   "metadata": {},
   "source": [
    "### Print model parameters"
   ]
  },
  {
   "cell_type": "code",
   "execution_count": 6,
   "id": "ee0e687e",
   "metadata": {},
   "outputs": [
    {
     "name": "stdout",
     "output_type": "stream",
     "text": [
      "[ 0] parameter:[       net.conv2d_00.weight] shape:[    32x1x3x3] numel:[       288]\n",
      "[ 1] parameter:[         net.conv2d_00.bias] shape:[          32] numel:[        32]\n",
      "[ 2] parameter:[  net.batchnorm2d_01.weight] shape:[          32] numel:[        32]\n",
      "[ 3] parameter:[    net.batchnorm2d_01.bias] shape:[          32] numel:[        32]\n",
      "[ 4] parameter:[       net.conv2d_05.weight] shape:[   64x32x3x3] numel:[     18432]\n",
      "[ 5] parameter:[         net.conv2d_05.bias] shape:[          64] numel:[        64]\n",
      "[ 6] parameter:[  net.batchnorm2d_06.weight] shape:[          64] numel:[        64]\n",
      "[ 7] parameter:[    net.batchnorm2d_06.bias] shape:[          64] numel:[        64]\n",
      "[ 8] parameter:[       net.linear_11.weight] shape:[     32x3136] numel:[    100352]\n",
      "[ 9] parameter:[         net.linear_11.bias] shape:[          32] numel:[        32]\n",
      "[10] parameter:[  net.batchnorm1d_12.weight] shape:[          32] numel:[        32]\n",
      "[11] parameter:[    net.batchnorm1d_12.bias] shape:[          32] numel:[        32]\n",
      "[12] parameter:[       net.linear_15.weight] shape:[       16x32] numel:[       512]\n",
      "[13] parameter:[         net.linear_15.bias] shape:[          16] numel:[        16]\n",
      "[14] parameter:[  net.batchnorm1d_16.weight] shape:[          16] numel:[        16]\n",
      "[15] parameter:[    net.batchnorm1d_16.bias] shape:[          16] numel:[        16]\n",
      "[16] parameter:[       net.linear_19.weight] shape:[       10x16] numel:[       160]\n",
      "[17] parameter:[         net.linear_19.bias] shape:[          10] numel:[        10]\n"
     ]
    }
   ],
   "source": [
    "print_model_parameters(cnn)"
   ]
  },
  {
   "cell_type": "markdown",
   "id": "c6bd83b2",
   "metadata": {},
   "source": [
    "### Print model layers"
   ]
  },
  {
   "cell_type": "code",
   "execution_count": 7,
   "id": "9bbaa753",
   "metadata": {},
   "outputs": [
    {
     "name": "stdout",
     "output_type": "stream",
     "text": [
      "batch_size:[16]\n",
      "[  ] layer:[          input] size:[    16x1x28x28]\n",
      "[ 0] layer:[      conv2d_00] size:[   16x32x28x28] numel:[    401408]\n",
      "[ 1] layer:[ batchnorm2d_01] size:[   16x32x28x28] numel:[    401408]\n",
      "[ 2] layer:[        mish_02] size:[   16x32x28x28] numel:[    401408]\n",
      "[ 3] layer:[   maxpool2d_03] size:[   16x32x14x14] numel:[    100352]\n",
      "[ 4] layer:[   dropout2d_04] size:[   16x32x14x14] numel:[    100352]\n",
      "[ 5] layer:[      conv2d_05] size:[   16x64x14x14] numel:[    200704]\n",
      "[ 6] layer:[ batchnorm2d_06] size:[   16x64x14x14] numel:[    200704]\n",
      "[ 7] layer:[        mish_07] size:[   16x64x14x14] numel:[    200704]\n",
      "[ 8] layer:[   maxpool2d_08] size:[     16x64x7x7] numel:[     50176]\n",
      "[ 9] layer:[   dropout2d_09] size:[     16x64x7x7] numel:[     50176]\n",
      "[10] layer:[     flatten_10] size:[       16x3136] numel:[     50176]\n",
      "[11] layer:[      linear_11] size:[         16x32] numel:[       512]\n",
      "[12] layer:[ batchnorm1d_12] size:[         16x32] numel:[       512]\n",
      "[13] layer:[        mish_13] size:[         16x32] numel:[       512]\n",
      "[14] layer:[   dropout1d_14] size:[         16x32] numel:[       512]\n",
      "[15] layer:[      linear_15] size:[         16x16] numel:[       256]\n",
      "[16] layer:[ batchnorm1d_16] size:[         16x16] numel:[       256]\n",
      "[17] layer:[        mish_17] size:[         16x16] numel:[       256]\n",
      "[18] layer:[   dropout1d_18] size:[         16x16] numel:[       256]\n",
      "[19] layer:[      linear_19] size:[         16x10] numel:[       160]\n"
     ]
    }
   ],
   "source": [
    "x_torch = th.randn((16,)+cnn.x_dim).to(device)\n",
    "print_model_layers(cnn,x_torch)"
   ]
  },
  {
   "cell_type": "markdown",
   "id": "87d1dcfe",
   "metadata": {},
   "source": [
    "### Train CNN"
   ]
  },
  {
   "cell_type": "code",
   "execution_count": 8,
   "id": "c1770d18",
   "metadata": {
    "scrolled": true
   },
   "outputs": [
    {
     "name": "stdout",
     "output_type": "stream",
     "text": [
      "epoch:[ 0/20] loss:[1.542] train_accr:[0.9695] test_accr:[0.9709].\n",
      "epoch:[ 1/20] loss:[1.384] train_accr:[0.9802] test_accr:[0.9813].\n",
      "epoch:[ 2/20] loss:[1.365] train_accr:[0.9842] test_accr:[0.9827].\n",
      "epoch:[ 3/20] loss:[1.355] train_accr:[0.9863] test_accr:[0.9862].\n",
      "epoch:[ 4/20] loss:[1.355] train_accr:[0.9879] test_accr:[0.9867].\n",
      "epoch:[ 5/20] loss:[1.344] train_accr:[0.9898] test_accr:[0.9879].\n",
      "epoch:[ 6/20] loss:[1.342] train_accr:[0.9908] test_accr:[0.9893].\n",
      "epoch:[ 7/20] loss:[1.348] train_accr:[0.9922] test_accr:[0.9891].\n",
      "epoch:[ 8/20] loss:[1.338] train_accr:[0.9922] test_accr:[0.9887].\n",
      "epoch:[ 9/20] loss:[1.349] train_accr:[0.9926] test_accr:[0.9906].\n",
      "epoch:[10/20] loss:[1.341] train_accr:[0.9926] test_accr:[0.9890].\n",
      "epoch:[11/20] loss:[1.341] train_accr:[0.9938] test_accr:[0.9902].\n",
      "epoch:[12/20] loss:[1.339] train_accr:[0.9944] test_accr:[0.9902].\n",
      "epoch:[13/20] loss:[1.344] train_accr:[0.9946] test_accr:[0.9901].\n",
      "epoch:[14/20] loss:[1.341] train_accr:[0.9943] test_accr:[0.9911].\n",
      "epoch:[15/20] loss:[1.336] train_accr:[0.9952] test_accr:[0.9914].\n",
      "epoch:[16/20] loss:[1.338] train_accr:[0.9953] test_accr:[0.9904].\n",
      "epoch:[17/20] loss:[1.344] train_accr:[0.9953] test_accr:[0.9913].\n",
      "epoch:[18/20] loss:[1.328] train_accr:[0.9959] test_accr:[0.9914].\n",
      "epoch:[19/20] loss:[1.341] train_accr:[0.9959] test_accr:[0.9916].\n"
     ]
    }
   ],
   "source": [
    "model_train(cnn,optm,loss,train_iter,test_iter,n_epoch,print_every,device)"
   ]
  },
  {
   "cell_type": "markdown",
   "id": "8cd21558",
   "metadata": {},
   "source": [
    "### Test CNN"
   ]
  },
  {
   "cell_type": "code",
   "execution_count": 9,
   "id": "f0edf3e5",
   "metadata": {},
   "outputs": [
    {
     "data": {
      "image/png": "[encoded data removed]",
      "text/plain": [
       "<Figure size 600x600 with 25 Axes>"
      ]
     },
     "metadata": {
      "image/png": {
       "height": 558,
       "width": 488
      }
     },
     "output_type": "display_data"
    }
   ],
   "source": [
    "model_test(cnn,test_data,test_label,device)"
   ]
  },
  {
   "cell_type": "code",
   "execution_count": null,
   "id": "21a01f03",
   "metadata": {},
   "outputs": [],
   "source": []
  }
 ],
 "metadata": {
  "kernelspec": {
   "display_name": "Python 3 (ipykernel)",
   "language": "python",
   "name": "python3"
  },
  "language_info": {
   "codemirror_mode": {
    "name": "ipython",
    "version": 3
   },
   "file_extension": ".py",
   "mimetype": "text/x-python",
   "name": "python",
   "nbconvert_exporter": "python",
   "pygments_lexer": "ipython3",
   "version": "3.9.16"
  }
 },
 "nbformat": 4,
 "nbformat_minor": 5
}
