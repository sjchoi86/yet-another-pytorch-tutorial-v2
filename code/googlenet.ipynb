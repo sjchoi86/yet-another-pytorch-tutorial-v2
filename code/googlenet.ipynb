{
 "cells": [
  {
   "cell_type": "markdown",
   "id": "68a475d9",
   "metadata": {},
   "source": [
    "### GoogLeNet"
   ]
  },
  {
   "cell_type": "code",
   "execution_count": 1,
   "id": "6b93fa47",
   "metadata": {},
   "outputs": [
    {
     "name": "stdout",
     "output_type": "stream",
     "text": [
      "PyTorch version:[2.0.1].\n"
     ]
    }
   ],
   "source": [
    "import numpy as np\n",
    "import matplotlib.pyplot as plt\n",
    "import torch as th\n",
    "import torch.nn as nn\n",
    "from dataset import mnist\n",
    "from util import (\n",
    "    get_torch_size_string,\n",
    "    print_model_parameters,\n",
    "    print_model_layers\n",
    ")\n",
    "np.set_printoptions(precision=3)\n",
    "th.set_printoptions(precision=3)\n",
    "%matplotlib inline\n",
    "%config InlineBackend.figure_format='retina'\n",
    "print (\"PyTorch version:[%s].\"%(th.__version__))"
   ]
  },
  {
   "cell_type": "markdown",
   "id": "9307e121",
   "metadata": {},
   "source": [
    "### Hyperparameters"
   ]
  },
  {
   "cell_type": "code",
   "execution_count": 2,
   "id": "f1d31787",
   "metadata": {},
   "outputs": [
    {
     "name": "stdout",
     "output_type": "stream",
     "text": [
      "Ready.\n"
     ]
    }
   ],
   "source": [
    "device = 'cpu' # cpu / mps\n",
    "print (\"Ready.\")"
   ]
  },
  {
   "cell_type": "markdown",
   "id": "ca4dfcfd",
   "metadata": {},
   "source": [
    "### Inception Blocks"
   ]
  },
  {
   "cell_type": "code",
   "execution_count": 3,
   "id": "eb92e0e0",
   "metadata": {},
   "outputs": [
    {
     "name": "stdout",
     "output_type": "stream",
     "text": [
      "Ready.\n"
     ]
    }
   ],
   "source": [
    "class Inception(nn.Module):\n",
    "    def __init__(self, c1, c2, c3, c4, **kwargs):\n",
    "        super(Inception, self).__init__(**kwargs)\n",
    "        # Activation\n",
    "        self.actv = nn.ReLU()\n",
    "        # Branch 1\n",
    "        self.b1_1 = nn.LazyConv2d(c1, kernel_size=1)\n",
    "        # Branch 2\n",
    "        self.b2_1 = nn.LazyConv2d(c2[0], kernel_size=1)\n",
    "        self.b2_2 = nn.LazyConv2d(c2[1], kernel_size=3, padding=1)\n",
    "        # Branch 3\n",
    "        self.b3_1 = nn.LazyConv2d(c3[0], kernel_size=1)\n",
    "        self.b3_2 = nn.LazyConv2d(c3[1], kernel_size=5, padding=2)\n",
    "        # Branch 4\n",
    "        self.b4_1 = nn.MaxPool2d(kernel_size=3, stride=1, padding=1)\n",
    "        self.b4_2 = nn.LazyConv2d(c4, kernel_size=1)\n",
    "\n",
    "    def forward(self, x):\n",
    "        b1 = self.actv(self.b1_1(x)) \n",
    "        b2 = self.actv(self.b2_2(self.actv(self.b2_1(x)))) \n",
    "        b3 = self.actv(self.b3_2(self.actv(self.b3_1(x)))) \n",
    "        b4 = self.actv(self.b4_2(self.b4_1(x)))\n",
    "        return th.cat((b1, b2, b3, b4), dim=1)\n",
    "print (\"Ready.\")"
   ]
  },
  {
   "cell_type": "markdown",
   "id": "1490b982",
   "metadata": {},
   "source": [
    "### GoogLeNet"
   ]
  },
  {
   "cell_type": "code",
   "execution_count": 4,
   "id": "30cbffbf",
   "metadata": {},
   "outputs": [
    {
     "name": "stdout",
     "output_type": "stream",
     "text": [
      "Ready.\n"
     ]
    }
   ],
   "source": [
    "class GoogLeNetClass(nn.Module):\n",
    "    def __init__(\n",
    "        self,\n",
    "        num_classes = 1000\n",
    "    ):\n",
    "        super(GoogLeNetClass,self).__init__()\n",
    "        self.net = nn.Sequential(\n",
    "            self.b1(), \n",
    "            self.b2(), \n",
    "            self.b3(), \n",
    "            self.b4(), \n",
    "            self.b5(), \n",
    "            nn.LazyLinear(num_classes)\n",
    "        )\n",
    "        self.layer_names = []\n",
    "        for l_idx,layer in enumerate(self.net):\n",
    "            layer_name = \"%s_%02d\"%(type(layer).__name__.lower(),l_idx)\n",
    "            self.layer_names.append(layer_name)\n",
    "        \n",
    "    def b1(self):\n",
    "        return nn.Sequential(\n",
    "            nn.LazyConv2d(64, kernel_size=7, stride=2, padding=3),\n",
    "            nn.ReLU(), \n",
    "            nn.MaxPool2d(kernel_size=3, stride=2, padding=1)\n",
    "        )\n",
    "    \n",
    "    def b2(self):\n",
    "        return nn.Sequential(\n",
    "            nn.LazyConv2d(64, kernel_size=1), \n",
    "            nn.ReLU(),\n",
    "            nn.LazyConv2d(192, kernel_size=3, padding=1), \n",
    "            nn.ReLU(),\n",
    "            nn.MaxPool2d(kernel_size=3, stride=2, padding=1)\n",
    "        )\n",
    "    \n",
    "    def b3(self):\n",
    "        return nn.Sequential(\n",
    "            Inception(64, (96, 128), (16, 32), 32), \n",
    "            Inception(128, (128, 192), (32, 96), 64),\n",
    "            nn.MaxPool2d(kernel_size=3, stride=2, padding=1)\n",
    "        )\n",
    "    \n",
    "    def b4(self):\n",
    "        return nn.Sequential(\n",
    "            Inception(192, (96, 208), (16, 48), 64), \n",
    "            Inception(160, (112, 224), (24, 64), 64), \n",
    "            Inception(128, (128, 256), (24, 64), 64), \n",
    "            Inception(112, (144, 288), (32, 64), 64), \n",
    "            Inception(256, (160, 320), (32, 128), 128),\n",
    "            nn.MaxPool2d(kernel_size=3, stride=2, padding=1)\n",
    "        )\n",
    "    \n",
    "    def b5(self):\n",
    "        return nn.Sequential(\n",
    "            Inception(256, (160, 320), (32, 128), 128), \n",
    "            Inception(384, (192, 384), (48, 128), 128), \n",
    "            nn.AdaptiveAvgPool2d((1,1)), \n",
    "            nn.Flatten()\n",
    "        )\n",
    "    \n",
    "    def forward(self,x):\n",
    "        \"\"\"\n",
    "            Forward propagate\n",
    "        \"\"\"\n",
    "        intermediate_output_list = []\n",
    "        for layer in self.net:\n",
    "            x = layer(x)\n",
    "            intermediate_output_list.append(x)\n",
    "        final_output = x\n",
    "        return final_output,intermediate_output_list\n",
    "    \n",
    "print (\"Ready.\")        "
   ]
  },
  {
   "cell_type": "code",
   "execution_count": 5,
   "id": "3aaad3a0",
   "metadata": {},
   "outputs": [
    {
     "name": "stdout",
     "output_type": "stream",
     "text": [
      "Ready.\n"
     ]
    },
    {
     "name": "stderr",
     "output_type": "stream",
     "text": [
      "/Users/sj/anaconda3/envs/mujoco/lib/python3.9/site-packages/torch/nn/modules/lazy.py:180: UserWarning: Lazy modules are a new feature under heavy development so changes to the API or functionality can happen at any moment.\n",
      "  warnings.warn('Lazy modules are a new feature under heavy development '\n"
     ]
    }
   ],
   "source": [
    "googlenet = GoogLeNetClass(\n",
    "    num_classes = 1000\n",
    ")\n",
    "print (\"Ready.\")"
   ]
  },
  {
   "cell_type": "markdown",
   "id": "69d4893f",
   "metadata": {},
   "source": [
    "### Print model layers"
   ]
  },
  {
   "cell_type": "code",
   "execution_count": 6,
   "id": "a0d62542",
   "metadata": {},
   "outputs": [
    {
     "name": "stdout",
     "output_type": "stream",
     "text": [
      "batch_size:[16]\n",
      "[  ] layer:[          input] size:[  16x3x224x224]\n",
      "[ 0] layer:[  sequential_00] size:[   16x64x56x56] numel:[   3211264]\n",
      "[ 1] layer:[  sequential_01] size:[  16x192x28x28] numel:[   2408448]\n",
      "[ 2] layer:[  sequential_02] size:[  16x480x14x14] numel:[   1505280]\n",
      "[ 3] layer:[  sequential_03] size:[    16x832x7x7] numel:[    652288]\n",
      "[ 4] layer:[  sequential_04] size:[       16x1024] numel:[     16384]\n",
      "[ 5] layer:[  lazylinear_05] size:[       16x1000] numel:[     16000]\n"
     ]
    }
   ],
   "source": [
    "x_torch = th.randn((16,3,224,224)).to(device)\n",
    "print_model_layers(googlenet,x_torch)"
   ]
  },
  {
   "cell_type": "markdown",
   "id": "ebb3290d",
   "metadata": {},
   "source": [
    "### Print model parameters"
   ]
  },
  {
   "cell_type": "code",
   "execution_count": 7,
   "id": "66b169d0",
   "metadata": {
    "scrolled": false
   },
   "outputs": [
    {
     "name": "stdout",
     "output_type": "stream",
     "text": [
      "[ 0] parameter:[             net.0.0.weight] shape:[    64x3x7x7] numel:[      9408]\n",
      "[ 1] parameter:[               net.0.0.bias] shape:[          64] numel:[        64]\n",
      "[ 2] parameter:[             net.1.0.weight] shape:[   64x64x1x1] numel:[      4096]\n",
      "[ 3] parameter:[               net.1.0.bias] shape:[          64] numel:[        64]\n",
      "[ 4] parameter:[             net.1.2.weight] shape:[  192x64x3x3] numel:[    110592]\n",
      "[ 5] parameter:[               net.1.2.bias] shape:[         192] numel:[       192]\n",
      "[ 6] parameter:[        net.2.0.b1_1.weight] shape:[  64x192x1x1] numel:[     12288]\n",
      "[ 7] parameter:[          net.2.0.b1_1.bias] shape:[          64] numel:[        64]\n",
      "[ 8] parameter:[        net.2.0.b2_1.weight] shape:[  96x192x1x1] numel:[     18432]\n",
      "[ 9] parameter:[          net.2.0.b2_1.bias] shape:[          96] numel:[        96]\n",
      "[10] parameter:[        net.2.0.b2_2.weight] shape:[  128x96x3x3] numel:[    110592]\n",
      "[11] parameter:[          net.2.0.b2_2.bias] shape:[         128] numel:[       128]\n",
      "[12] parameter:[        net.2.0.b3_1.weight] shape:[  16x192x1x1] numel:[      3072]\n",
      "[13] parameter:[          net.2.0.b3_1.bias] shape:[          16] numel:[        16]\n",
      "[14] parameter:[        net.2.0.b3_2.weight] shape:[   32x16x5x5] numel:[     12800]\n",
      "[15] parameter:[          net.2.0.b3_2.bias] shape:[          32] numel:[        32]\n",
      "[16] parameter:[        net.2.0.b4_2.weight] shape:[  32x192x1x1] numel:[      6144]\n",
      "[17] parameter:[          net.2.0.b4_2.bias] shape:[          32] numel:[        32]\n",
      "[18] parameter:[        net.2.1.b1_1.weight] shape:[ 128x256x1x1] numel:[     32768]\n",
      "[19] parameter:[          net.2.1.b1_1.bias] shape:[         128] numel:[       128]\n",
      "[20] parameter:[        net.2.1.b2_1.weight] shape:[ 128x256x1x1] numel:[     32768]\n",
      "[21] parameter:[          net.2.1.b2_1.bias] shape:[         128] numel:[       128]\n",
      "[22] parameter:[        net.2.1.b2_2.weight] shape:[ 192x128x3x3] numel:[    221184]\n",
      "[23] parameter:[          net.2.1.b2_2.bias] shape:[         192] numel:[       192]\n",
      "[24] parameter:[        net.2.1.b3_1.weight] shape:[  32x256x1x1] numel:[      8192]\n",
      "[25] parameter:[          net.2.1.b3_1.bias] shape:[          32] numel:[        32]\n",
      "[26] parameter:[        net.2.1.b3_2.weight] shape:[   96x32x5x5] numel:[     76800]\n",
      "[27] parameter:[          net.2.1.b3_2.bias] shape:[          96] numel:[        96]\n",
      "[28] parameter:[        net.2.1.b4_2.weight] shape:[  64x256x1x1] numel:[     16384]\n",
      "[29] parameter:[          net.2.1.b4_2.bias] shape:[          64] numel:[        64]\n",
      "[30] parameter:[        net.3.0.b1_1.weight] shape:[ 192x480x1x1] numel:[     92160]\n",
      "[31] parameter:[          net.3.0.b1_1.bias] shape:[         192] numel:[       192]\n",
      "[32] parameter:[        net.3.0.b2_1.weight] shape:[  96x480x1x1] numel:[     46080]\n",
      "[33] parameter:[          net.3.0.b2_1.bias] shape:[          96] numel:[        96]\n",
      "[34] parameter:[        net.3.0.b2_2.weight] shape:[  208x96x3x3] numel:[    179712]\n",
      "[35] parameter:[          net.3.0.b2_2.bias] shape:[         208] numel:[       208]\n",
      "[36] parameter:[        net.3.0.b3_1.weight] shape:[  16x480x1x1] numel:[      7680]\n",
      "[37] parameter:[          net.3.0.b3_1.bias] shape:[          16] numel:[        16]\n",
      "[38] parameter:[        net.3.0.b3_2.weight] shape:[   48x16x5x5] numel:[     19200]\n",
      "[39] parameter:[          net.3.0.b3_2.bias] shape:[          48] numel:[        48]\n",
      "[40] parameter:[        net.3.0.b4_2.weight] shape:[  64x480x1x1] numel:[     30720]\n",
      "[41] parameter:[          net.3.0.b4_2.bias] shape:[          64] numel:[        64]\n",
      "[42] parameter:[        net.3.1.b1_1.weight] shape:[ 160x512x1x1] numel:[     81920]\n",
      "[43] parameter:[          net.3.1.b1_1.bias] shape:[         160] numel:[       160]\n",
      "[44] parameter:[        net.3.1.b2_1.weight] shape:[ 112x512x1x1] numel:[     57344]\n",
      "[45] parameter:[          net.3.1.b2_1.bias] shape:[         112] numel:[       112]\n",
      "[46] parameter:[        net.3.1.b2_2.weight] shape:[ 224x112x3x3] numel:[    225792]\n",
      "[47] parameter:[          net.3.1.b2_2.bias] shape:[         224] numel:[       224]\n",
      "[48] parameter:[        net.3.1.b3_1.weight] shape:[  24x512x1x1] numel:[     12288]\n",
      "[49] parameter:[          net.3.1.b3_1.bias] shape:[          24] numel:[        24]\n",
      "[50] parameter:[        net.3.1.b3_2.weight] shape:[   64x24x5x5] numel:[     38400]\n",
      "[51] parameter:[          net.3.1.b3_2.bias] shape:[          64] numel:[        64]\n",
      "[52] parameter:[        net.3.1.b4_2.weight] shape:[  64x512x1x1] numel:[     32768]\n",
      "[53] parameter:[          net.3.1.b4_2.bias] shape:[          64] numel:[        64]\n",
      "[54] parameter:[        net.3.2.b1_1.weight] shape:[ 128x512x1x1] numel:[     65536]\n",
      "[55] parameter:[          net.3.2.b1_1.bias] shape:[         128] numel:[       128]\n",
      "[56] parameter:[        net.3.2.b2_1.weight] shape:[ 128x512x1x1] numel:[     65536]\n",
      "[57] parameter:[          net.3.2.b2_1.bias] shape:[         128] numel:[       128]\n",
      "[58] parameter:[        net.3.2.b2_2.weight] shape:[ 256x128x3x3] numel:[    294912]\n",
      "[59] parameter:[          net.3.2.b2_2.bias] shape:[         256] numel:[       256]\n",
      "[60] parameter:[        net.3.2.b3_1.weight] shape:[  24x512x1x1] numel:[     12288]\n",
      "[61] parameter:[          net.3.2.b3_1.bias] shape:[          24] numel:[        24]\n",
      "[62] parameter:[        net.3.2.b3_2.weight] shape:[   64x24x5x5] numel:[     38400]\n",
      "[63] parameter:[          net.3.2.b3_2.bias] shape:[          64] numel:[        64]\n",
      "[64] parameter:[        net.3.2.b4_2.weight] shape:[  64x512x1x1] numel:[     32768]\n",
      "[65] parameter:[          net.3.2.b4_2.bias] shape:[          64] numel:[        64]\n",
      "[66] parameter:[        net.3.3.b1_1.weight] shape:[ 112x512x1x1] numel:[     57344]\n",
      "[67] parameter:[          net.3.3.b1_1.bias] shape:[         112] numel:[       112]\n",
      "[68] parameter:[        net.3.3.b2_1.weight] shape:[ 144x512x1x1] numel:[     73728]\n",
      "[69] parameter:[          net.3.3.b2_1.bias] shape:[         144] numel:[       144]\n",
      "[70] parameter:[        net.3.3.b2_2.weight] shape:[ 288x144x3x3] numel:[    373248]\n",
      "[71] parameter:[          net.3.3.b2_2.bias] shape:[         288] numel:[       288]\n",
      "[72] parameter:[        net.3.3.b3_1.weight] shape:[  32x512x1x1] numel:[     16384]\n",
      "[73] parameter:[          net.3.3.b3_1.bias] shape:[          32] numel:[        32]\n",
      "[74] parameter:[        net.3.3.b3_2.weight] shape:[   64x32x5x5] numel:[     51200]\n",
      "[75] parameter:[          net.3.3.b3_2.bias] shape:[          64] numel:[        64]\n",
      "[76] parameter:[        net.3.3.b4_2.weight] shape:[  64x512x1x1] numel:[     32768]\n",
      "[77] parameter:[          net.3.3.b4_2.bias] shape:[          64] numel:[        64]\n",
      "[78] parameter:[        net.3.4.b1_1.weight] shape:[ 256x528x1x1] numel:[    135168]\n",
      "[79] parameter:[          net.3.4.b1_1.bias] shape:[         256] numel:[       256]\n",
      "[80] parameter:[        net.3.4.b2_1.weight] shape:[ 160x528x1x1] numel:[     84480]\n",
      "[81] parameter:[          net.3.4.b2_1.bias] shape:[         160] numel:[       160]\n",
      "[82] parameter:[        net.3.4.b2_2.weight] shape:[ 320x160x3x3] numel:[    460800]\n",
      "[83] parameter:[          net.3.4.b2_2.bias] shape:[         320] numel:[       320]\n",
      "[84] parameter:[        net.3.4.b3_1.weight] shape:[  32x528x1x1] numel:[     16896]\n",
      "[85] parameter:[          net.3.4.b3_1.bias] shape:[          32] numel:[        32]\n",
      "[86] parameter:[        net.3.4.b3_2.weight] shape:[  128x32x5x5] numel:[    102400]\n",
      "[87] parameter:[          net.3.4.b3_2.bias] shape:[         128] numel:[       128]\n",
      "[88] parameter:[        net.3.4.b4_2.weight] shape:[ 128x528x1x1] numel:[     67584]\n",
      "[89] parameter:[          net.3.4.b4_2.bias] shape:[         128] numel:[       128]\n",
      "[90] parameter:[        net.4.0.b1_1.weight] shape:[ 256x832x1x1] numel:[    212992]\n",
      "[91] parameter:[          net.4.0.b1_1.bias] shape:[         256] numel:[       256]\n",
      "[92] parameter:[        net.4.0.b2_1.weight] shape:[ 160x832x1x1] numel:[    133120]\n",
      "[93] parameter:[          net.4.0.b2_1.bias] shape:[         160] numel:[       160]\n",
      "[94] parameter:[        net.4.0.b2_2.weight] shape:[ 320x160x3x3] numel:[    460800]\n",
      "[95] parameter:[          net.4.0.b2_2.bias] shape:[         320] numel:[       320]\n",
      "[96] parameter:[        net.4.0.b3_1.weight] shape:[  32x832x1x1] numel:[     26624]\n",
      "[97] parameter:[          net.4.0.b3_1.bias] shape:[          32] numel:[        32]\n",
      "[98] parameter:[        net.4.0.b3_2.weight] shape:[  128x32x5x5] numel:[    102400]\n",
      "[99] parameter:[          net.4.0.b3_2.bias] shape:[         128] numel:[       128]\n",
      "[100] parameter:[        net.4.0.b4_2.weight] shape:[ 128x832x1x1] numel:[    106496]\n",
      "[101] parameter:[          net.4.0.b4_2.bias] shape:[         128] numel:[       128]\n",
      "[102] parameter:[        net.4.1.b1_1.weight] shape:[ 384x832x1x1] numel:[    319488]\n",
      "[103] parameter:[          net.4.1.b1_1.bias] shape:[         384] numel:[       384]\n",
      "[104] parameter:[        net.4.1.b2_1.weight] shape:[ 192x832x1x1] numel:[    159744]\n",
      "[105] parameter:[          net.4.1.b2_1.bias] shape:[         192] numel:[       192]\n",
      "[106] parameter:[        net.4.1.b2_2.weight] shape:[ 384x192x3x3] numel:[    663552]\n",
      "[107] parameter:[          net.4.1.b2_2.bias] shape:[         384] numel:[       384]\n",
      "[108] parameter:[        net.4.1.b3_1.weight] shape:[  48x832x1x1] numel:[     39936]\n",
      "[109] parameter:[          net.4.1.b3_1.bias] shape:[          48] numel:[        48]\n",
      "[110] parameter:[        net.4.1.b3_2.weight] shape:[  128x48x5x5] numel:[    153600]\n",
      "[111] parameter:[          net.4.1.b3_2.bias] shape:[         128] numel:[       128]\n",
      "[112] parameter:[        net.4.1.b4_2.weight] shape:[ 128x832x1x1] numel:[    106496]\n",
      "[113] parameter:[          net.4.1.b4_2.bias] shape:[         128] numel:[       128]\n",
      "[114] parameter:[               net.5.weight] shape:[   1000x1024] numel:[   1024000]\n",
      "[115] parameter:[                 net.5.bias] shape:[        1000] numel:[      1000]\n"
     ]
    }
   ],
   "source": [
    "print_model_parameters(googlenet)"
   ]
  },
  {
   "cell_type": "code",
   "execution_count": null,
   "id": "c322be1d",
   "metadata": {},
   "outputs": [],
   "source": []
  }
 ],
 "metadata": {
  "kernelspec": {
   "display_name": "Python 3 (ipykernel)",
   "language": "python",
   "name": "python3"
  },
  "language_info": {
   "codemirror_mode": {
    "name": "ipython",
    "version": 3
   },
   "file_extension": ".py",
   "mimetype": "text/x-python",
   "name": "python",
   "nbconvert_exporter": "python",
   "pygments_lexer": "ipython3",
   "version": "3.9.16"
  }
 },
 "nbformat": 4,
 "nbformat_minor": 5
}
