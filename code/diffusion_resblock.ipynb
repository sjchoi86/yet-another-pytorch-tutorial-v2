{
 "cells": [
  {
   "cell_type": "markdown",
   "id": "00d7ebaa",
   "metadata": {},
   "source": [
    "### Resdual block for diffusion models"
   ]
  },
  {
   "cell_type": "code",
   "execution_count": 1,
   "id": "c37dccb5",
   "metadata": {},
   "outputs": [
    {
     "name": "stdout",
     "output_type": "stream",
     "text": [
      "PyTorch version:[2.0.1].\n"
     ]
    }
   ],
   "source": [
    "import numpy as np\n",
    "import matplotlib.pyplot as plt\n",
    "import torch as th\n",
    "import torch.nn as nn\n",
    "import torch.nn.functional as F\n",
    "from module import (\n",
    "    ResBlock\n",
    ")\n",
    "from dataset import mnist\n",
    "from util import get_torch_size_string,plot_4x4_torch_tensor\n",
    "np.set_printoptions(precision=3)\n",
    "th.set_printoptions(precision=3)\n",
    "%matplotlib inline\n",
    "%config InlineBackend.figure_format='retina'\n",
    "print (\"PyTorch version:[%s].\"%(th.__version__))"
   ]
  },
  {
   "cell_type": "markdown",
   "id": "257ff26d",
   "metadata": {},
   "source": [
    "### 1-D case `[B x C x L]`"
   ]
  },
  {
   "cell_type": "code",
   "execution_count": 5,
   "id": "abd8843c",
   "metadata": {
    "scrolled": true
   },
   "outputs": [
    {
     "name": "stdout",
     "output_type": "stream",
     "text": [
      "1. No upsample nor downsample\n",
      " Shape x:[16x32x200] => out:[16x32x400]\n",
      "2. Upsample\n",
      " Shape x:[16x32x200] => out:[16x32x400]\n",
      "3. Downsample\n",
      " Shape x:[16x32x200] => out:[16x32x100]\n"
     ]
    }
   ],
   "source": [
    "# Input\n",
    "x = th.randn(16,32,200) # [B x C x L]\n",
    "emb = th.randn(16,128) # [B x n_emb_channels]\n",
    "\n",
    "print (\"1. No upsample nor downsample\")\n",
    "resblock = ResBlock(\n",
    "    n_channels     = 32,\n",
    "    n_emb_channels = 128,\n",
    "    n_out_channels = 32,\n",
    "    n_groups       = 16,\n",
    "    dims           = 1,\n",
    "    upsample       = True,\n",
    "    downsample     = False,\n",
    "    down_rate      = 1\n",
    ")\n",
    "out = resblock(x,emb)\n",
    "print (\" Shape x:[%s] => out:[%s]\"%\n",
    "       (get_torch_size_string(x),get_torch_size_string(out)))\n",
    "\n",
    "print (\"2. Upsample\")\n",
    "resblock = ResBlock(\n",
    "    n_channels     = 32,\n",
    "    n_emb_channels = 128,\n",
    "    n_out_channels = 32,\n",
    "    n_groups       = 16,\n",
    "    dims           = 1,\n",
    "    upsample       = True,\n",
    "    downsample     = False,\n",
    "    down_rate      = 2\n",
    ")\n",
    "out = resblock(x,emb)\n",
    "print (\" Shape x:[%s] => out:[%s]\"%\n",
    "       (get_torch_size_string(x),get_torch_size_string(out)))\n",
    "\n",
    "print (\"3. Downsample\")\n",
    "resblock = ResBlock(\n",
    "    n_channels     = 32,\n",
    "    n_emb_channels = 128,\n",
    "    n_out_channels = 32,\n",
    "    n_groups       = 16,\n",
    "    dims           = 1,\n",
    "    upsample       = False,\n",
    "    downsample     = True,\n",
    "    down_rate      = 2\n",
    ")\n",
    "out = resblock(x,emb)\n",
    "print (\" Shape x:[%s] => out:[%s]\"%\n",
    "       (get_torch_size_string(x),get_torch_size_string(out)))"
   ]
  },
  {
   "cell_type": "markdown",
   "id": "01d77ea8",
   "metadata": {},
   "source": [
    "### 2-D case `[B x C x W x H]`"
   ]
  },
  {
   "cell_type": "code",
   "execution_count": 3,
   "id": "890df0a2",
   "metadata": {},
   "outputs": [
    {
     "name": "stdout",
     "output_type": "stream",
     "text": [
      "1. No upsample nor downsample\n",
      " Shape x:[16x32x28x28] => out:[16x32x28x28]\n",
      "2. Upsample\n",
      " Shape x:[16x32x28x28] => out:[16x32x56x56]\n",
      "3. Downsample\n",
      " Shape x:[16x32x28x28] => out:[16x32x14x14]\n",
      "4. (uneven) Upsample\n",
      " Shape x:[16x32x28x28] => out:[16x32x56x28]\n",
      "5. (uneven) Downsample\n",
      " Shape x:[16x32x28x28] => out:[16x32x14x28]\n",
      "6. (fake) Downsample\n",
      " Shape x:[16x32x28x28] => out:[16x32x28x28]\n"
     ]
    }
   ],
   "source": [
    "# Input\n",
    "x = th.randn(16,32,28,28) # [B x C x W x H]\n",
    "emb = th.randn(16,128) # [B x n_emb_channels]\n",
    "\n",
    "print (\"1. No upsample nor downsample\")\n",
    "resblock = ResBlock(\n",
    "    n_channels     = 32,\n",
    "    n_emb_channels = 128,\n",
    "    n_out_channels = 32,\n",
    "    n_groups       = 16,\n",
    "    dims           = 2,\n",
    "    upsample       = False,\n",
    "    downsample     = False\n",
    ")\n",
    "out = resblock(x,emb)\n",
    "print (\" Shape x:[%s] => out:[%s]\"%\n",
    "       (get_torch_size_string(x),get_torch_size_string(out)))\n",
    "\n",
    "print (\"2. Upsample\")\n",
    "resblock = ResBlock(\n",
    "    n_channels     = 32,\n",
    "    n_emb_channels = 128,\n",
    "    n_out_channels = 32,\n",
    "    n_groups       = 16,\n",
    "    dims           = 2,\n",
    "    upsample       = True,\n",
    "    downsample     = False\n",
    ")\n",
    "out = resblock(x,emb)\n",
    "print (\" Shape x:[%s] => out:[%s]\"%\n",
    "       (get_torch_size_string(x),get_torch_size_string(out)))\n",
    "\n",
    "print (\"3. Downsample\")\n",
    "resblock = ResBlock(\n",
    "    n_channels     = 32,\n",
    "    n_emb_channels = 128,\n",
    "    n_out_channels = 32,\n",
    "    n_groups       = 16,\n",
    "    dims           = 2,\n",
    "    upsample       = False,\n",
    "    downsample     = True\n",
    ")\n",
    "out = resblock(x,emb)\n",
    "print (\" Shape x:[%s] => out:[%s]\"%\n",
    "       (get_torch_size_string(x),get_torch_size_string(out)))\n",
    "\n",
    "print (\"4. (uneven) Upsample\")\n",
    "resblock = ResBlock(\n",
    "    n_channels     = 32,\n",
    "    n_emb_channels = 128,\n",
    "    n_out_channels = 32,\n",
    "    n_groups       = 16,\n",
    "    dims           = 2,\n",
    "    upsample       = True,\n",
    "    downsample     = False,\n",
    "    up_rate        = (2,1)\n",
    ")\n",
    "out = resblock(x,emb)\n",
    "print (\" Shape x:[%s] => out:[%s]\"%\n",
    "       (get_torch_size_string(x),get_torch_size_string(out)))\n",
    "\n",
    "print (\"5. (uneven) Downsample\")\n",
    "resblock = ResBlock(\n",
    "    n_channels     = 32,\n",
    "    n_emb_channels = 128,\n",
    "    n_out_channels = 32,\n",
    "    n_groups       = 16,\n",
    "    dims           = 2,\n",
    "    upsample       = False,\n",
    "    downsample     = True,\n",
    "    down_rate      = (2,1)\n",
    ")\n",
    "out = resblock(x,emb)\n",
    "print (\" Shape x:[%s] => out:[%s]\"%\n",
    "       (get_torch_size_string(x),get_torch_size_string(out)))\n",
    "\n",
    "print (\"6. (fake) Downsample\")\n",
    "resblock = ResBlock(\n",
    "    n_channels     = 32,\n",
    "    n_emb_channels = 128,\n",
    "    n_out_channels = 32,\n",
    "    n_groups       = 16,\n",
    "    dims           = 2,\n",
    "    upsample       = False,\n",
    "    downsample     = True,\n",
    "    down_rate      = (1,1)\n",
    ")\n",
    "out = resblock(x,emb)\n",
    "print (\" Shape x:[%s] => out:[%s]\"%\n",
    "       (get_torch_size_string(x),get_torch_size_string(out)))"
   ]
  },
  {
   "cell_type": "code",
   "execution_count": null,
   "id": "184ebe32",
   "metadata": {},
   "outputs": [],
   "source": []
  }
 ],
 "metadata": {
  "kernelspec": {
   "display_name": "Python 3 (ipykernel)",
   "language": "python",
   "name": "python3"
  },
  "language_info": {
   "codemirror_mode": {
    "name": "ipython",
    "version": 3
   },
   "file_extension": ".py",
   "mimetype": "text/x-python",
   "name": "python",
   "nbconvert_exporter": "python",
   "pygments_lexer": "ipython3",
   "version": "3.9.16"
  }
 },
 "nbformat": 4,
 "nbformat_minor": 5
}
