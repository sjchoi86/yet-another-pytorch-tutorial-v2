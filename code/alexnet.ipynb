{
 "cells": [
  {
   "cell_type": "markdown",
   "id": "3237b690",
   "metadata": {},
   "source": [
    "### AlexNet"
   ]
  },
  {
   "cell_type": "code",
   "execution_count": 1,
   "id": "546a1a64",
   "metadata": {},
   "outputs": [
    {
     "name": "stdout",
     "output_type": "stream",
     "text": [
      "PyTorch version:[2.0.1].\n"
     ]
    }
   ],
   "source": [
    "import numpy as np\n",
    "import matplotlib.pyplot as plt\n",
    "import torch as th\n",
    "import torch.nn as nn\n",
    "from dataset import mnist\n",
    "from util import (\n",
    "    get_torch_size_string,\n",
    "    print_model_parameters,\n",
    "    print_model_layers,\n",
    "    model_train,\n",
    "    model_eval,\n",
    "    model_test\n",
    ")\n",
    "np.set_printoptions(precision=3)\n",
    "th.set_printoptions(precision=3)\n",
    "%matplotlib inline\n",
    "%config InlineBackend.figure_format='retina'\n",
    "print (\"PyTorch version:[%s].\"%(th.__version__))"
   ]
  },
  {
   "cell_type": "markdown",
   "id": "b0873df4",
   "metadata": {},
   "source": [
    "### Hyperparameters"
   ]
  },
  {
   "cell_type": "code",
   "execution_count": 2,
   "id": "59e38a74",
   "metadata": {},
   "outputs": [
    {
     "name": "stdout",
     "output_type": "stream",
     "text": [
      "Ready.\n"
     ]
    }
   ],
   "source": [
    "device = 'cpu' # cpu / mps\n",
    "print (\"Ready.\")"
   ]
  },
  {
   "cell_type": "markdown",
   "id": "5ce18508",
   "metadata": {},
   "source": [
    "### Define AlexNet"
   ]
  },
  {
   "cell_type": "code",
   "execution_count": 3,
   "id": "d28a0ff0",
   "metadata": {},
   "outputs": [
    {
     "name": "stdout",
     "output_type": "stream",
     "text": [
      "Ready.\n"
     ]
    }
   ],
   "source": [
    "class AlexNetClass(nn.Module):\n",
    "    def __init__(self):\n",
    "        super(AlexNetClass,self).__init__()\n",
    "        self.net = nn.Sequential(\n",
    "            nn.LazyConv2d(96, kernel_size=11, stride=4, padding=1),\n",
    "            nn.ReLU(), \n",
    "            nn.MaxPool2d(kernel_size=3, stride=2),\n",
    "            nn.LazyConv2d(256, kernel_size=5, padding=2),\n",
    "            nn.ReLU(),\n",
    "            nn.MaxPool2d(kernel_size=3, stride=2),\n",
    "            nn.LazyConv2d(384, kernel_size=3, padding=1), \n",
    "            nn.ReLU(),\n",
    "            nn.LazyConv2d(384, kernel_size=3, padding=1), \n",
    "            nn.ReLU(),\n",
    "            nn.LazyConv2d(256, kernel_size=3, padding=1), \n",
    "            nn.ReLU(),\n",
    "            nn.MaxPool2d(kernel_size=3, stride=2), \n",
    "            nn.Flatten(),\n",
    "            nn.LazyLinear(4096),\n",
    "            nn.ReLU(),\n",
    "            nn.Dropout(p=0.5),\n",
    "            nn.LazyLinear(4096),\n",
    "            nn.ReLU(),\n",
    "            nn.Dropout(p=0.5),\n",
    "            nn.LazyLinear(1000)\n",
    "        )\n",
    "        self.layer_names = []\n",
    "        for l_idx,layer in enumerate(self.net):\n",
    "            layer_name = \"%s_%02d\"%(type(layer).__name__.lower(),l_idx)\n",
    "            self.layer_names.append(layer_name)\n",
    "            \n",
    "    def forward(self,x):\n",
    "        \"\"\"\n",
    "            Forward propagate\n",
    "        \"\"\"\n",
    "        intermediate_output_list = []\n",
    "        for layer in self.net:\n",
    "            x = layer(x)\n",
    "            intermediate_output_list.append(x)\n",
    "        final_output = x\n",
    "        return final_output,intermediate_output_list\n",
    "    \n",
    "print (\"Ready.\")"
   ]
  },
  {
   "cell_type": "code",
   "execution_count": 4,
   "id": "a3fe9f2b",
   "metadata": {},
   "outputs": [
    {
     "name": "stdout",
     "output_type": "stream",
     "text": [
      "Ready.\n"
     ]
    },
    {
     "name": "stderr",
     "output_type": "stream",
     "text": [
      "/Users/sj/anaconda3/envs/mujoco/lib/python3.9/site-packages/torch/nn/modules/lazy.py:180: UserWarning: Lazy modules are a new feature under heavy development so changes to the API or functionality can happen at any moment.\n",
      "  warnings.warn('Lazy modules are a new feature under heavy development '\n"
     ]
    }
   ],
   "source": [
    "alexnet = AlexNetClass()\n",
    "print (\"Ready.\")"
   ]
  },
  {
   "cell_type": "markdown",
   "id": "dd6bab75",
   "metadata": {},
   "source": [
    "### Print model layers"
   ]
  },
  {
   "cell_type": "code",
   "execution_count": 5,
   "id": "4be52130",
   "metadata": {},
   "outputs": [
    {
     "name": "stdout",
     "output_type": "stream",
     "text": [
      "batch_size:[16]\n",
      "[  ] layer:[          input] size:[  16x3x224x224]\n",
      "[ 0] layer:[  lazyconv2d_00] size:[   16x96x54x54] numel:[   4478976]\n",
      "[ 1] layer:[        relu_01] size:[   16x96x54x54] numel:[   4478976]\n",
      "[ 2] layer:[   maxpool2d_02] size:[   16x96x26x26] numel:[   1038336]\n",
      "[ 3] layer:[  lazyconv2d_03] size:[  16x256x26x26] numel:[   2768896]\n",
      "[ 4] layer:[        relu_04] size:[  16x256x26x26] numel:[   2768896]\n",
      "[ 5] layer:[   maxpool2d_05] size:[  16x256x12x12] numel:[    589824]\n",
      "[ 6] layer:[  lazyconv2d_06] size:[  16x384x12x12] numel:[    884736]\n",
      "[ 7] layer:[        relu_07] size:[  16x384x12x12] numel:[    884736]\n",
      "[ 8] layer:[  lazyconv2d_08] size:[  16x384x12x12] numel:[    884736]\n",
      "[ 9] layer:[        relu_09] size:[  16x384x12x12] numel:[    884736]\n",
      "[10] layer:[  lazyconv2d_10] size:[  16x256x12x12] numel:[    589824]\n",
      "[11] layer:[        relu_11] size:[  16x256x12x12] numel:[    589824]\n",
      "[12] layer:[   maxpool2d_12] size:[    16x256x5x5] numel:[    102400]\n",
      "[13] layer:[     flatten_13] size:[       16x6400] numel:[    102400]\n",
      "[14] layer:[  lazylinear_14] size:[       16x4096] numel:[     65536]\n",
      "[15] layer:[        relu_15] size:[       16x4096] numel:[     65536]\n",
      "[16] layer:[     dropout_16] size:[       16x4096] numel:[     65536]\n",
      "[17] layer:[  lazylinear_17] size:[       16x4096] numel:[     65536]\n",
      "[18] layer:[        relu_18] size:[       16x4096] numel:[     65536]\n",
      "[19] layer:[     dropout_19] size:[       16x4096] numel:[     65536]\n",
      "[20] layer:[  lazylinear_20] size:[       16x1000] numel:[     16000]\n"
     ]
    }
   ],
   "source": [
    "x_torch = th.randn((16,3,224,224)).to(device)\n",
    "print_model_layers(alexnet,x_torch)"
   ]
  },
  {
   "cell_type": "markdown",
   "id": "d082f63a",
   "metadata": {},
   "source": [
    "### Print model parameters"
   ]
  },
  {
   "cell_type": "code",
   "execution_count": 6,
   "id": "80ca6c71",
   "metadata": {},
   "outputs": [
    {
     "name": "stdout",
     "output_type": "stream",
     "text": [
      "[ 0] parameter:[               net.0.weight] shape:[  96x3x11x11] numel:[     34848]\n",
      "[ 1] parameter:[                 net.0.bias] shape:[          96] numel:[        96]\n",
      "[ 2] parameter:[               net.3.weight] shape:[  256x96x5x5] numel:[    614400]\n",
      "[ 3] parameter:[                 net.3.bias] shape:[         256] numel:[       256]\n",
      "[ 4] parameter:[               net.6.weight] shape:[ 384x256x3x3] numel:[    884736]\n",
      "[ 5] parameter:[                 net.6.bias] shape:[         384] numel:[       384]\n",
      "[ 6] parameter:[               net.8.weight] shape:[ 384x384x3x3] numel:[   1327104]\n",
      "[ 7] parameter:[                 net.8.bias] shape:[         384] numel:[       384]\n",
      "[ 8] parameter:[              net.10.weight] shape:[ 256x384x3x3] numel:[    884736]\n",
      "[ 9] parameter:[                net.10.bias] shape:[         256] numel:[       256]\n",
      "[10] parameter:[              net.14.weight] shape:[   4096x6400] numel:[  26214400]\n",
      "[11] parameter:[                net.14.bias] shape:[        4096] numel:[      4096]\n",
      "[12] parameter:[              net.17.weight] shape:[   4096x4096] numel:[  16777216]\n",
      "[13] parameter:[                net.17.bias] shape:[        4096] numel:[      4096]\n",
      "[14] parameter:[              net.20.weight] shape:[   1000x4096] numel:[   4096000]\n",
      "[15] parameter:[                net.20.bias] shape:[        1000] numel:[      1000]\n"
     ]
    }
   ],
   "source": [
    "print_model_parameters(alexnet)"
   ]
  },
  {
   "cell_type": "code",
   "execution_count": null,
   "id": "e69bbc41",
   "metadata": {},
   "outputs": [],
   "source": []
  }
 ],
 "metadata": {
  "kernelspec": {
   "display_name": "Python 3 (ipykernel)",
   "language": "python",
   "name": "python3"
  },
  "language_info": {
   "codemirror_mode": {
    "name": "ipython",
    "version": 3
   },
   "file_extension": ".py",
   "mimetype": "text/x-python",
   "name": "python",
   "nbconvert_exporter": "python",
   "pygments_lexer": "ipython3",
   "version": "3.9.16"
  }
 },
 "nbformat": 4,
 "nbformat_minor": 5
}
