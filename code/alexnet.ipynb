{
 "cells": [
  {
   "cell_type": "markdown",
   "id": "3237b690",
   "metadata": {},
   "source": [
    "### AlexNet"
   ]
  },
  {
   "cell_type": "code",
   "execution_count": 1,
   "id": "546a1a64",
   "metadata": {},
   "outputs": [
    {
     "name": "stdout",
     "output_type": "stream",
     "text": [
      "PyTorch version:[2.0.1].\n"
     ]
    }
   ],
   "source": [
    "import numpy as np\n",
    "import matplotlib.pyplot as plt\n",
    "import torch as th\n",
    "import torch.nn as nn\n",
    "from dataset import mnist\n",
    "from util import (\n",
    "    get_torch_size_string,\n",
    "    print_model_parameters,\n",
    "    print_model_layers,\n",
    "    model_train,\n",
    "    model_eval,\n",
    "    model_test\n",
    ")\n",
    "np.set_printoptions(precision=3)\n",
    "th.set_printoptions(precision=3)\n",
    "%matplotlib inline\n",
    "%config InlineBackend.figure_format='retina'\n",
    "print (\"PyTorch version:[%s].\"%(th.__version__))"
   ]
  },
  {
   "cell_type": "markdown",
   "id": "b0873df4",
   "metadata": {},
   "source": [
    "### Hyperparameters"
   ]
  },
  {
   "cell_type": "code",
   "execution_count": 2,
   "id": "59e38a74",
   "metadata": {},
   "outputs": [
    {
     "name": "stdout",
     "output_type": "stream",
     "text": [
      "Ready.\n"
     ]
    }
   ],
   "source": [
    "device      = 'cpu' # cpu / mps\n",
    "n_epoch     = 1\n",
    "batch_size  = 128\n",
    "print_every = 1\n",
    "print (\"Ready.\")"
   ]
  },
  {
   "cell_type": "markdown",
   "id": "a4dc0679",
   "metadata": {},
   "source": [
    "### Dataset"
   ]
  },
  {
   "cell_type": "code",
   "execution_count": 3,
   "id": "c4b78b72",
   "metadata": {},
   "outputs": [
    {
     "name": "stdout",
     "output_type": "stream",
     "text": [
      "MNIST ready.\n"
     ]
    }
   ],
   "source": [
    "train_iter,test_iter,train_data,train_label,test_data,test_label = \\\n",
    "    mnist(root_path='../data',batch_size=128)\n",
    "print (\"MNIST ready.\")"
   ]
  },
  {
   "cell_type": "markdown",
   "id": "5ce18508",
   "metadata": {},
   "source": [
    "### Define AlexNet"
   ]
  },
  {
   "cell_type": "code",
   "execution_count": 4,
   "id": "d28a0ff0",
   "metadata": {},
   "outputs": [
    {
     "name": "stdout",
     "output_type": "stream",
     "text": [
      "Ready.\n"
     ]
    }
   ],
   "source": [
    "class AlexNetClass(nn.Module):\n",
    "    def __init__(\n",
    "        self,\n",
    "        name            = 'alexnet',\n",
    "        x_dim           = (1,28,28),\n",
    "        num_classes     = 1000,\n",
    "        shallow_alexnet = False,\n",
    "    ):\n",
    "        super(AlexNetClass,self).__init__()\n",
    "        self.name            = name\n",
    "        self.x_dim           = x_dim\n",
    "        self.num_classes     = num_classes\n",
    "        self.shallow_alexnet = shallow_alexnet\n",
    "        \n",
    "        if self.shallow_alexnet:\n",
    "            # Shallow version of alexnet for smaller sized images\n",
    "            self.net = nn.Sequential(\n",
    "                nn.LazyConv2d(\n",
    "                    out_channels = 96, \n",
    "                    kernel_size  = 5, \n",
    "                    stride       = 1, \n",
    "                    padding      = 1,\n",
    "                ),\n",
    "                nn.ReLU(), \n",
    "                nn.MaxPool2d(kernel_size=3, stride=2),\n",
    "                nn.LazyConv2d(\n",
    "                    out_channels = 256, \n",
    "                    kernel_size  = 5, \n",
    "                    stride       = 1, \n",
    "                    padding      = 2,\n",
    "                ),\n",
    "                nn.ReLU(),\n",
    "                nn.MaxPool2d(kernel_size=3, stride=2),\n",
    "                nn.LazyConv2d(\n",
    "                    out_channels = 384, \n",
    "                    kernel_size  = 3, \n",
    "                    stride       = 1, \n",
    "                    padding      = 1,\n",
    "                ), \n",
    "                nn.ReLU(),\n",
    "                nn.MaxPool2d(kernel_size=3, stride=2), \n",
    "                nn.Flatten(),\n",
    "                nn.LazyLinear(out_features=4096),\n",
    "                nn.ReLU(),\n",
    "                nn.Dropout(p=0.5),\n",
    "                nn.LazyLinear(out_features=4096),\n",
    "                nn.ReLU(),\n",
    "                nn.Dropout(p=0.5),\n",
    "                nn.LazyLinear(out_features=num_classes)\n",
    "            )\n",
    "        else:\n",
    "            # Original alexnet for [224x224x3] images\n",
    "            self.net = nn.Sequential(\n",
    "                nn.LazyConv2d(\n",
    "                    out_channels = 96, \n",
    "                    kernel_size  = 11, \n",
    "                    stride       = 4, \n",
    "                    padding      = 1),\n",
    "                nn.ReLU(), \n",
    "                nn.MaxPool2d(kernel_size=3, stride=2),\n",
    "                nn.LazyConv2d(\n",
    "                    out_channels = 256, \n",
    "                    kernel_size  = 5, \n",
    "                    padding      = 2\n",
    "                ),\n",
    "                nn.ReLU(),\n",
    "                nn.MaxPool2d(kernel_size=3, stride=2),\n",
    "                nn.LazyConv2d(\n",
    "                    out_channels = 384, \n",
    "                    kernel_size  = 3, \n",
    "                    padding      = 1), \n",
    "                nn.ReLU(),\n",
    "                nn.LazyConv2d(\n",
    "                    out_channels = 384, \n",
    "                    kernel_size  = 3, \n",
    "                    padding      = 1), \n",
    "                nn.ReLU(),\n",
    "                nn.LazyConv2d(\n",
    "                    out_channels = 256, \n",
    "                    kernel_size  = 3, \n",
    "                    padding      = 1), \n",
    "                nn.ReLU(),\n",
    "                nn.MaxPool2d(kernel_size=3, stride=2), \n",
    "                nn.Flatten(),\n",
    "                nn.LazyLinear(out_features=4096),\n",
    "                nn.ReLU(),\n",
    "                nn.Dropout(p=0.5),\n",
    "                nn.LazyLinear(out_features=4096),\n",
    "                nn.ReLU(),\n",
    "                nn.Dropout(p=0.5),\n",
    "                nn.LazyLinear(out_features=num_classes)\n",
    "            )\n",
    "        self.layer_names = []\n",
    "        for l_idx,layer in enumerate(self.net):\n",
    "            layer_name = \"%s_%02d\"%(type(layer).__name__.lower(),l_idx)\n",
    "            self.layer_names.append(layer_name)\n",
    "    \n",
    "    def init_param(self,VERBOSE=False):\n",
    "        \"\"\"\n",
    "            Initialize parameters\n",
    "        \"\"\"\n",
    "        for m_idx,m in enumerate(self.modules()):\n",
    "            if VERBOSE:\n",
    "                print (\"[%02d]\"%(m_idx))\n",
    "            if isinstance(m,nn.Conv2d): # init conv\n",
    "                nn.init.kaiming_normal_(m.weight)\n",
    "                nn.init.zeros_(m.bias)\n",
    "            elif isinstance(m,nn.LazyConv2d): # init conv\n",
    "                nn.init.kaiming_normal_(m.weight)\n",
    "                nn.init.zeros_(m.bias)\n",
    "            elif isinstance(m,nn.BatchNorm1d) or isinstance(m,nn.BatchNorm2d): \n",
    "                nn.init.constant_(m.weight,1.0)\n",
    "                nn.init.constant_(m.bias,0.0)\n",
    "            elif isinstance(m,nn.Linear): # lnit dense\n",
    "                nn.init.kaiming_normal_(m.weight,nonlinearity='relu')\n",
    "                nn.init.zeros_(m.bias)\n",
    "            elif isinstance(m,nn.LazyLinear): # lnit dense\n",
    "                nn.init.kaiming_normal_(m.weight,nonlinearity='relu')\n",
    "                nn.init.zeros_(m.bias)\n",
    "                \n",
    "    def forward(self,x):\n",
    "        \"\"\"\n",
    "            Forward propagate\n",
    "        \"\"\"\n",
    "        intermediate_output_list = []\n",
    "        for layer in self.net:\n",
    "            x = layer(x)\n",
    "            intermediate_output_list.append(x)\n",
    "        final_output = x\n",
    "        return final_output,intermediate_output_list\n",
    "    \n",
    "print (\"Ready.\")"
   ]
  },
  {
   "cell_type": "code",
   "execution_count": 5,
   "id": "a3fe9f2b",
   "metadata": {},
   "outputs": [
    {
     "name": "stdout",
     "output_type": "stream",
     "text": [
      "Ready.\n"
     ]
    },
    {
     "name": "stderr",
     "output_type": "stream",
     "text": [
      "/Users/sj/anaconda3/envs/mujoco/lib/python3.9/site-packages/torch/nn/modules/lazy.py:180: UserWarning: Lazy modules are a new feature under heavy development so changes to the API or functionality can happen at any moment.\n",
      "  warnings.warn('Lazy modules are a new feature under heavy development '\n"
     ]
    }
   ],
   "source": [
    "alexnet = AlexNetClass(\n",
    "    name            = 'alexnet',\n",
    "    x_dim           = (1,28,28),\n",
    "    num_classes     = 10,\n",
    "    shallow_alexnet = True,\n",
    ").to(device)\n",
    "loss = nn.CrossEntropyLoss()\n",
    "optm = th.optim.Adam(alexnet.parameters(),lr=1e-3)\n",
    "print (\"Ready.\")"
   ]
  },
  {
   "cell_type": "markdown",
   "id": "dd6bab75",
   "metadata": {},
   "source": [
    "### Print model layers"
   ]
  },
  {
   "cell_type": "code",
   "execution_count": 6,
   "id": "4be52130",
   "metadata": {
    "scrolled": true
   },
   "outputs": [
    {
     "name": "stdout",
     "output_type": "stream",
     "text": [
      "batch_size:[16]\n",
      "[  ] layer:[          input] size:[    16x1x28x28]\n",
      "[ 0] layer:[  lazyconv2d_00] size:[   16x96x26x26] numel:[   1038336]\n",
      "[ 1] layer:[        relu_01] size:[   16x96x26x26] numel:[   1038336]\n",
      "[ 2] layer:[   maxpool2d_02] size:[   16x96x12x12] numel:[    221184]\n",
      "[ 3] layer:[  lazyconv2d_03] size:[  16x256x12x12] numel:[    589824]\n",
      "[ 4] layer:[        relu_04] size:[  16x256x12x12] numel:[    589824]\n",
      "[ 5] layer:[   maxpool2d_05] size:[    16x256x5x5] numel:[    102400]\n",
      "[ 6] layer:[  lazyconv2d_06] size:[    16x384x5x5] numel:[    153600]\n",
      "[ 7] layer:[        relu_07] size:[    16x384x5x5] numel:[    153600]\n",
      "[ 8] layer:[   maxpool2d_08] size:[    16x384x2x2] numel:[     24576]\n",
      "[ 9] layer:[     flatten_09] size:[       16x1536] numel:[     24576]\n",
      "[10] layer:[  lazylinear_10] size:[       16x4096] numel:[     65536]\n",
      "[11] layer:[        relu_11] size:[       16x4096] numel:[     65536]\n",
      "[12] layer:[     dropout_12] size:[       16x4096] numel:[     65536]\n",
      "[13] layer:[  lazylinear_13] size:[       16x4096] numel:[     65536]\n",
      "[14] layer:[        relu_14] size:[       16x4096] numel:[     65536]\n",
      "[15] layer:[     dropout_15] size:[       16x4096] numel:[     65536]\n",
      "[16] layer:[  lazylinear_16] size:[         16x10] numel:[       160]\n"
     ]
    }
   ],
   "source": [
    "x_torch = th.randn((16,)+alexnet.x_dim).to(device)\n",
    "print_model_layers(alexnet,x_torch)"
   ]
  },
  {
   "cell_type": "markdown",
   "id": "d082f63a",
   "metadata": {},
   "source": [
    "### Print model parameters"
   ]
  },
  {
   "cell_type": "code",
   "execution_count": 7,
   "id": "80ca6c71",
   "metadata": {},
   "outputs": [
    {
     "name": "stdout",
     "output_type": "stream",
     "text": [
      "[ 0] parameter:[               net.0.weight] shape:[    96x1x5x5] numel:[      2400]\n",
      "[ 1] parameter:[                 net.0.bias] shape:[          96] numel:[        96]\n",
      "[ 2] parameter:[               net.3.weight] shape:[  256x96x5x5] numel:[    614400]\n",
      "[ 3] parameter:[                 net.3.bias] shape:[         256] numel:[       256]\n",
      "[ 4] parameter:[               net.6.weight] shape:[ 384x256x3x3] numel:[    884736]\n",
      "[ 5] parameter:[                 net.6.bias] shape:[         384] numel:[       384]\n",
      "[ 6] parameter:[              net.10.weight] shape:[   4096x1536] numel:[   6291456]\n",
      "[ 7] parameter:[                net.10.bias] shape:[        4096] numel:[      4096]\n",
      "[ 8] parameter:[              net.13.weight] shape:[   4096x4096] numel:[  16777216]\n",
      "[ 9] parameter:[                net.13.bias] shape:[        4096] numel:[      4096]\n",
      "[10] parameter:[              net.16.weight] shape:[     10x4096] numel:[     40960]\n",
      "[11] parameter:[                net.16.bias] shape:[          10] numel:[        10]\n"
     ]
    }
   ],
   "source": [
    "print_model_parameters(alexnet)"
   ]
  },
  {
   "cell_type": "markdown",
   "id": "af4b18d2",
   "metadata": {},
   "source": [
    "### Train AlexNet"
   ]
  },
  {
   "cell_type": "code",
   "execution_count": 8,
   "id": "cc1a5d07",
   "metadata": {
    "scrolled": true
   },
   "outputs": [
    {
     "name": "stdout",
     "output_type": "stream",
     "text": [
      "epoch:[ 0/1] loss:[0.343] train_accr:[0.9802] test_accr:[0.9811].\n"
     ]
    }
   ],
   "source": [
    "model_train(alexnet,optm,loss,train_iter,test_iter,n_epoch,print_every,device)"
   ]
  },
  {
   "cell_type": "markdown",
   "id": "45edb4f3",
   "metadata": {},
   "source": [
    "### Test AlexNet"
   ]
  },
  {
   "cell_type": "code",
   "execution_count": 9,
   "id": "6cbfb676",
   "metadata": {},
   "outputs": [
    {
     "data": {
      "image/png": "[encoded data removed]",
      "text/plain": [
       "<Figure size 600x600 with 25 Axes>"
      ]
     },
     "metadata": {
      "image/png": {
       "height": 558,
       "width": 488
      }
     },
     "output_type": "display_data"
    }
   ],
   "source": [
    "model_test(alexnet,test_data,test_label,device)"
   ]
  },
  {
   "cell_type": "code",
   "execution_count": null,
   "id": "9177b713",
   "metadata": {},
   "outputs": [],
   "source": []
  }
 ],
 "metadata": {
  "kernelspec": {
   "display_name": "Python 3 (ipykernel)",
   "language": "python",
   "name": "python3"
  },
  "language_info": {
   "codemirror_mode": {
    "name": "ipython",
    "version": 3
   },
   "file_extension": ".py",
   "mimetype": "text/x-python",
   "name": "python",
   "nbconvert_exporter": "python",
   "pygments_lexer": "ipython3",
   "version": "3.9.16"
  }
 },
 "nbformat": 4,
 "nbformat_minor": 5
}
