{
 "cells": [
  {
   "cell_type": "markdown",
   "id": "ff3dbc03",
   "metadata": {},
   "source": [
    "### ResNet"
   ]
  },
  {
   "cell_type": "code",
   "execution_count": 1,
   "id": "03ef6eaf",
   "metadata": {},
   "outputs": [
    {
     "name": "stdout",
     "output_type": "stream",
     "text": [
      "PyTorch version:[2.0.1].\n"
     ]
    }
   ],
   "source": [
    "import numpy as np\n",
    "import matplotlib.pyplot as plt\n",
    "import torch as th\n",
    "import torch.nn as nn\n",
    "from dataset import mnist\n",
    "from util import (\n",
    "    get_torch_size_string,\n",
    "    print_model_parameters,\n",
    "    print_model_layers,\n",
    "    model_train\n",
    ")\n",
    "np.set_printoptions(precision=3)\n",
    "th.set_printoptions(precision=3)\n",
    "%matplotlib inline\n",
    "%config InlineBackend.figure_format='retina'\n",
    "print (\"PyTorch version:[%s].\"%(th.__version__))"
   ]
  },
  {
   "cell_type": "code",
   "execution_count": 2,
   "id": "101c2d60",
   "metadata": {},
   "outputs": [],
   "source": [
    "device = 'cpu'"
   ]
  },
  {
   "cell_type": "markdown",
   "id": "d6f978e9",
   "metadata": {},
   "source": [
    "### Residual Block"
   ]
  },
  {
   "cell_type": "code",
   "execution_count": 3,
   "id": "dcdf362f",
   "metadata": {},
   "outputs": [
    {
     "name": "stdout",
     "output_type": "stream",
     "text": [
      "Ready.\n"
     ]
    }
   ],
   "source": [
    "class Residual(nn.Module):\n",
    "    \"\"\"The Residual block of ResNet models.\"\"\" \n",
    "    def __init__(self, num_channels, use_1x1conv=False, strides=1):\n",
    "        super().__init__()\n",
    "        self.conv1 = nn.LazyConv2d(\n",
    "            num_channels, kernel_size=3, padding=1,stride=strides)\n",
    "        self.conv2 = nn.LazyConv2d(\n",
    "            num_channels, kernel_size=3, padding=1)\n",
    "        if use_1x1conv:\n",
    "            self.conv3 = nn.LazyConv2d(num_channels, kernel_size=1,\n",
    "                stride=strides)\n",
    "        else:\n",
    "            self.conv3 = None \n",
    "        self.bn1  = nn.LazyBatchNorm2d() \n",
    "        self.bn2  = nn.LazyBatchNorm2d()\n",
    "        self.actv = nn.ReLU()\n",
    "    def forward(self,x):\n",
    "        y = self.actv(self.bn1(self.conv1(x))) \n",
    "        y = self.bn2(self.conv2(y)) \n",
    "        if self.conv3:\n",
    "            x = self.conv3(x) \n",
    "        y += x \n",
    "        return self.actv(y)\n",
    "print (\"Ready.\")"
   ]
  },
  {
   "cell_type": "code",
   "execution_count": 4,
   "id": "41603b8f",
   "metadata": {},
   "outputs": [
    {
     "name": "stdout",
     "output_type": "stream",
     "text": [
      "x_torch:[16x3x224x224] => y_torch:[16x3x224x224]\n"
     ]
    },
    {
     "name": "stderr",
     "output_type": "stream",
     "text": [
      "/Users/sj/anaconda3/envs/mujoco/lib/python3.9/site-packages/torch/nn/modules/lazy.py:180: UserWarning: Lazy modules are a new feature under heavy development so changes to the API or functionality can happen at any moment.\n",
      "  warnings.warn('Lazy modules are a new feature under heavy development '\n"
     ]
    }
   ],
   "source": [
    "resblock = Residual(num_channels=3,use_1x1conv=False,strides=1)\n",
    "x_torch = th.randn(16,3,224,224)\n",
    "y_torch = resblock(x_torch,)\n",
    "print (\"x_torch:[%s] => y_torch:[%s]\"%\n",
    "       (get_torch_size_string(x_torch),get_torch_size_string(y_torch)))"
   ]
  },
  {
   "cell_type": "code",
   "execution_count": 5,
   "id": "5a558f82",
   "metadata": {},
   "outputs": [
    {
     "name": "stdout",
     "output_type": "stream",
     "text": [
      "x_torch:[16x3x224x224] => y_torch:[16x3x224x224]\n"
     ]
    }
   ],
   "source": [
    "resblock = Residual(num_channels=3,use_1x1conv=True,strides=1)\n",
    "x_torch = th.randn(16,3,224,224)\n",
    "y_torch = resblock(x_torch,)\n",
    "print (\"x_torch:[%s] => y_torch:[%s]\"%\n",
    "       (get_torch_size_string(x_torch),get_torch_size_string(y_torch)))"
   ]
  },
  {
   "cell_type": "code",
   "execution_count": 6,
   "id": "61a3ce69",
   "metadata": {},
   "outputs": [
    {
     "name": "stdout",
     "output_type": "stream",
     "text": [
      "x_torch:[16x3x224x224] => y_torch:[16x3x112x112]\n"
     ]
    }
   ],
   "source": [
    "resblock = Residual(num_channels=3,use_1x1conv=True,strides=2)\n",
    "x_torch = th.randn(16,3,224,224)\n",
    "y_torch = resblock(x_torch,)\n",
    "print (\"x_torch:[%s] => y_torch:[%s]\"%\n",
    "       (get_torch_size_string(x_torch),get_torch_size_string(y_torch)))"
   ]
  },
  {
   "cell_type": "markdown",
   "id": "2f421223",
   "metadata": {},
   "source": [
    "### ResNet"
   ]
  },
  {
   "cell_type": "code",
   "execution_count": 7,
   "id": "a35feb71",
   "metadata": {},
   "outputs": [
    {
     "name": "stdout",
     "output_type": "stream",
     "text": [
      "Ready.\n"
     ]
    }
   ],
   "source": [
    "class ResNetClass(nn.Module):\n",
    "    \n",
    "    def __init__(self, arch, lr=0.1, num_classes=10):\n",
    "        super(ResNetClass, self).__init__()\n",
    "        \n",
    "        self.net = nn.Sequential(self.b1())\n",
    "        for i, b in enumerate(arch):\n",
    "            self.net.add_module(f'b{i+2}', self.block(*b, first_block=(i==0)))\n",
    "        self.net.add_module('last', nn.Sequential(\n",
    "            nn.AdaptiveAvgPool2d((1, 1)), nn.Flatten(),\n",
    "            nn.LazyLinear(num_classes)))\n",
    "        \n",
    "        self.layer_names = []\n",
    "        for l_idx,layer in enumerate(self.net):\n",
    "            layer_name = \"%s_%02d\"%(type(layer).__name__.lower(),l_idx)\n",
    "            self.layer_names.append(layer_name)\n",
    "        \n",
    "    def b1(self):\n",
    "        return nn.Sequential(\n",
    "            nn.LazyConv2d(64, kernel_size=7, stride=2, padding=3),\n",
    "            nn.LazyBatchNorm2d(), nn.ReLU(),\n",
    "            nn.MaxPool2d(kernel_size=3, stride=2, padding=1))\n",
    "    \n",
    "    def block(self, num_residuals, num_channels, first_block=False):\n",
    "        blk = []\n",
    "        for i in range(num_residuals):\n",
    "            if i == 0 and not first_block:\n",
    "                blk.append(Residual(num_channels, use_1x1conv=True, strides=2)) \n",
    "            else:\n",
    "                blk.append(Residual(num_channels)) \n",
    "        return nn.Sequential(*blk)\n",
    "    \n",
    "    def forward(self,x):\n",
    "        \"\"\"\n",
    "            Forward propagate\n",
    "        \"\"\"\n",
    "        intermediate_output_list = []\n",
    "        for layer in self.net:\n",
    "            x = layer(x)\n",
    "            intermediate_output_list.append(x)\n",
    "        final_output = x\n",
    "        return final_output,intermediate_output_list\n",
    "    \n",
    "print (\"Ready.\")"
   ]
  },
  {
   "cell_type": "code",
   "execution_count": 8,
   "id": "33f138bf",
   "metadata": {},
   "outputs": [
    {
     "name": "stdout",
     "output_type": "stream",
     "text": [
      "Ready.\n"
     ]
    }
   ],
   "source": [
    "resnet = ResNetClass(\n",
    "    arch = ((2, 64), (2, 128), (2, 256), (2, 512))\n",
    ")\n",
    "print (\"Ready.\")"
   ]
  },
  {
   "cell_type": "markdown",
   "id": "eb5ee56f",
   "metadata": {},
   "source": [
    "### Print model layers"
   ]
  },
  {
   "cell_type": "code",
   "execution_count": 9,
   "id": "3b675f23",
   "metadata": {},
   "outputs": [
    {
     "name": "stdout",
     "output_type": "stream",
     "text": [
      "batch_size:[16]\n",
      "[  ] layer:[          input] size:[  16x3x224x224]\n",
      "[ 0] layer:[  sequential_00] size:[   16x64x56x56] numel:[   3211264]\n",
      "[ 1] layer:[  sequential_01] size:[   16x64x56x56] numel:[   3211264]\n",
      "[ 2] layer:[  sequential_02] size:[  16x128x28x28] numel:[   1605632]\n",
      "[ 3] layer:[  sequential_03] size:[  16x256x14x14] numel:[    802816]\n",
      "[ 4] layer:[  sequential_04] size:[    16x512x7x7] numel:[    401408]\n",
      "[ 5] layer:[  sequential_05] size:[         16x10] numel:[       160]\n"
     ]
    }
   ],
   "source": [
    "x_torch = th.randn((16,3,224,224)).to(device)\n",
    "print_model_layers(resnet,x_torch)"
   ]
  },
  {
   "cell_type": "markdown",
   "id": "8f937828",
   "metadata": {},
   "source": [
    "### Print model parameters"
   ]
  },
  {
   "cell_type": "code",
   "execution_count": 10,
   "id": "7a8de534",
   "metadata": {
    "scrolled": false
   },
   "outputs": [
    {
     "name": "stdout",
     "output_type": "stream",
     "text": [
      "[ 0] parameter:[             net.0.0.weight] shape:[    64x3x7x7] numel:[      9408]\n",
      "[ 1] parameter:[               net.0.0.bias] shape:[          64] numel:[        64]\n",
      "[ 2] parameter:[             net.0.1.weight] shape:[          64] numel:[        64]\n",
      "[ 3] parameter:[               net.0.1.bias] shape:[          64] numel:[        64]\n",
      "[ 4] parameter:[      net.b2.0.conv1.weight] shape:[   64x64x3x3] numel:[     36864]\n",
      "[ 5] parameter:[        net.b2.0.conv1.bias] shape:[          64] numel:[        64]\n",
      "[ 6] parameter:[      net.b2.0.conv2.weight] shape:[   64x64x3x3] numel:[     36864]\n",
      "[ 7] parameter:[        net.b2.0.conv2.bias] shape:[          64] numel:[        64]\n",
      "[ 8] parameter:[        net.b2.0.bn1.weight] shape:[          64] numel:[        64]\n",
      "[ 9] parameter:[          net.b2.0.bn1.bias] shape:[          64] numel:[        64]\n",
      "[10] parameter:[        net.b2.0.bn2.weight] shape:[          64] numel:[        64]\n",
      "[11] parameter:[          net.b2.0.bn2.bias] shape:[          64] numel:[        64]\n",
      "[12] parameter:[      net.b2.1.conv1.weight] shape:[   64x64x3x3] numel:[     36864]\n",
      "[13] parameter:[        net.b2.1.conv1.bias] shape:[          64] numel:[        64]\n",
      "[14] parameter:[      net.b2.1.conv2.weight] shape:[   64x64x3x3] numel:[     36864]\n",
      "[15] parameter:[        net.b2.1.conv2.bias] shape:[          64] numel:[        64]\n",
      "[16] parameter:[        net.b2.1.bn1.weight] shape:[          64] numel:[        64]\n",
      "[17] parameter:[          net.b2.1.bn1.bias] shape:[          64] numel:[        64]\n",
      "[18] parameter:[        net.b2.1.bn2.weight] shape:[          64] numel:[        64]\n",
      "[19] parameter:[          net.b2.1.bn2.bias] shape:[          64] numel:[        64]\n",
      "[20] parameter:[      net.b3.0.conv1.weight] shape:[  128x64x3x3] numel:[     73728]\n",
      "[21] parameter:[        net.b3.0.conv1.bias] shape:[         128] numel:[       128]\n",
      "[22] parameter:[      net.b3.0.conv2.weight] shape:[ 128x128x3x3] numel:[    147456]\n",
      "[23] parameter:[        net.b3.0.conv2.bias] shape:[         128] numel:[       128]\n",
      "[24] parameter:[      net.b3.0.conv3.weight] shape:[  128x64x1x1] numel:[      8192]\n",
      "[25] parameter:[        net.b3.0.conv3.bias] shape:[         128] numel:[       128]\n",
      "[26] parameter:[        net.b3.0.bn1.weight] shape:[         128] numel:[       128]\n",
      "[27] parameter:[          net.b3.0.bn1.bias] shape:[         128] numel:[       128]\n",
      "[28] parameter:[        net.b3.0.bn2.weight] shape:[         128] numel:[       128]\n",
      "[29] parameter:[          net.b3.0.bn2.bias] shape:[         128] numel:[       128]\n",
      "[30] parameter:[      net.b3.1.conv1.weight] shape:[ 128x128x3x3] numel:[    147456]\n",
      "[31] parameter:[        net.b3.1.conv1.bias] shape:[         128] numel:[       128]\n",
      "[32] parameter:[      net.b3.1.conv2.weight] shape:[ 128x128x3x3] numel:[    147456]\n",
      "[33] parameter:[        net.b3.1.conv2.bias] shape:[         128] numel:[       128]\n",
      "[34] parameter:[        net.b3.1.bn1.weight] shape:[         128] numel:[       128]\n",
      "[35] parameter:[          net.b3.1.bn1.bias] shape:[         128] numel:[       128]\n",
      "[36] parameter:[        net.b3.1.bn2.weight] shape:[         128] numel:[       128]\n",
      "[37] parameter:[          net.b3.1.bn2.bias] shape:[         128] numel:[       128]\n",
      "[38] parameter:[      net.b4.0.conv1.weight] shape:[ 256x128x3x3] numel:[    294912]\n",
      "[39] parameter:[        net.b4.0.conv1.bias] shape:[         256] numel:[       256]\n",
      "[40] parameter:[      net.b4.0.conv2.weight] shape:[ 256x256x3x3] numel:[    589824]\n",
      "[41] parameter:[        net.b4.0.conv2.bias] shape:[         256] numel:[       256]\n",
      "[42] parameter:[      net.b4.0.conv3.weight] shape:[ 256x128x1x1] numel:[     32768]\n",
      "[43] parameter:[        net.b4.0.conv3.bias] shape:[         256] numel:[       256]\n",
      "[44] parameter:[        net.b4.0.bn1.weight] shape:[         256] numel:[       256]\n",
      "[45] parameter:[          net.b4.0.bn1.bias] shape:[         256] numel:[       256]\n",
      "[46] parameter:[        net.b4.0.bn2.weight] shape:[         256] numel:[       256]\n",
      "[47] parameter:[          net.b4.0.bn2.bias] shape:[         256] numel:[       256]\n",
      "[48] parameter:[      net.b4.1.conv1.weight] shape:[ 256x256x3x3] numel:[    589824]\n",
      "[49] parameter:[        net.b4.1.conv1.bias] shape:[         256] numel:[       256]\n",
      "[50] parameter:[      net.b4.1.conv2.weight] shape:[ 256x256x3x3] numel:[    589824]\n",
      "[51] parameter:[        net.b4.1.conv2.bias] shape:[         256] numel:[       256]\n",
      "[52] parameter:[        net.b4.1.bn1.weight] shape:[         256] numel:[       256]\n",
      "[53] parameter:[          net.b4.1.bn1.bias] shape:[         256] numel:[       256]\n",
      "[54] parameter:[        net.b4.1.bn2.weight] shape:[         256] numel:[       256]\n",
      "[55] parameter:[          net.b4.1.bn2.bias] shape:[         256] numel:[       256]\n",
      "[56] parameter:[      net.b5.0.conv1.weight] shape:[ 512x256x3x3] numel:[   1179648]\n",
      "[57] parameter:[        net.b5.0.conv1.bias] shape:[         512] numel:[       512]\n",
      "[58] parameter:[      net.b5.0.conv2.weight] shape:[ 512x512x3x3] numel:[   2359296]\n",
      "[59] parameter:[        net.b5.0.conv2.bias] shape:[         512] numel:[       512]\n",
      "[60] parameter:[      net.b5.0.conv3.weight] shape:[ 512x256x1x1] numel:[    131072]\n",
      "[61] parameter:[        net.b5.0.conv3.bias] shape:[         512] numel:[       512]\n",
      "[62] parameter:[        net.b5.0.bn1.weight] shape:[         512] numel:[       512]\n",
      "[63] parameter:[          net.b5.0.bn1.bias] shape:[         512] numel:[       512]\n",
      "[64] parameter:[        net.b5.0.bn2.weight] shape:[         512] numel:[       512]\n",
      "[65] parameter:[          net.b5.0.bn2.bias] shape:[         512] numel:[       512]\n",
      "[66] parameter:[      net.b5.1.conv1.weight] shape:[ 512x512x3x3] numel:[   2359296]\n",
      "[67] parameter:[        net.b5.1.conv1.bias] shape:[         512] numel:[       512]\n",
      "[68] parameter:[      net.b5.1.conv2.weight] shape:[ 512x512x3x3] numel:[   2359296]\n",
      "[69] parameter:[        net.b5.1.conv2.bias] shape:[         512] numel:[       512]\n",
      "[70] parameter:[        net.b5.1.bn1.weight] shape:[         512] numel:[       512]\n",
      "[71] parameter:[          net.b5.1.bn1.bias] shape:[         512] numel:[       512]\n",
      "[72] parameter:[        net.b5.1.bn2.weight] shape:[         512] numel:[       512]\n",
      "[73] parameter:[          net.b5.1.bn2.bias] shape:[         512] numel:[       512]\n",
      "[74] parameter:[          net.last.2.weight] shape:[      10x512] numel:[      5120]\n",
      "[75] parameter:[            net.last.2.bias] shape:[          10] numel:[        10]\n"
     ]
    }
   ],
   "source": [
    "print_model_parameters(resnet)"
   ]
  },
  {
   "cell_type": "code",
   "execution_count": null,
   "id": "163365a0",
   "metadata": {},
   "outputs": [],
   "source": []
  }
 ],
 "metadata": {
  "kernelspec": {
   "display_name": "Python 3 (ipykernel)",
   "language": "python",
   "name": "python3"
  },
  "language_info": {
   "codemirror_mode": {
    "name": "ipython",
    "version": 3
   },
   "file_extension": ".py",
   "mimetype": "text/x-python",
   "name": "python",
   "nbconvert_exporter": "python",
   "pygments_lexer": "ipython3",
   "version": "3.9.16"
  }
 },
 "nbformat": 4,
 "nbformat_minor": 5
}
